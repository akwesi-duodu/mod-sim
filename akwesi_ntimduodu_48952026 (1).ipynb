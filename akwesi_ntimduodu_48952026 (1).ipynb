{
  "nbformat": 4,
  "nbformat_minor": 0,
  "metadata": {
    "colab": {
      "provenance": []
    },
    "kernelspec": {
      "name": "python3",
      "display_name": "Python 3"
    },
    "language_info": {
      "name": "python"
    }
  },
  "cells": [
    {
      "cell_type": "markdown",
      "source": [
        "(modelling)//installing necessary models"
      ],
      "metadata": {
        "id": "J9Y288NBrYY5"
      }
    },
    {
      "cell_type": "code",
      "execution_count": 1,
      "metadata": {
        "colab": {
          "base_uri": "https://localhost:8080/"
        },
        "id": "EpUgmm5orM3-",
        "outputId": "48a6d66b-d8e7-4417-e496-43153111fcf1"
      },
      "outputs": [
        {
          "output_type": "stream",
          "name": "stdout",
          "text": [
            "Collecting pint\n",
            "  Downloading Pint-0.24.4-py3-none-any.whl.metadata (8.5 kB)\n",
            "Requirement already satisfied: platformdirs>=2.1.0 in /usr/local/lib/python3.11/dist-packages (from pint) (4.3.6)\n",
            "Requirement already satisfied: typing-extensions>=4.0.0 in /usr/local/lib/python3.11/dist-packages (from pint) (4.12.2)\n",
            "Collecting flexcache>=0.3 (from pint)\n",
            "  Downloading flexcache-0.3-py3-none-any.whl.metadata (7.0 kB)\n",
            "Collecting flexparser>=0.4 (from pint)\n",
            "  Downloading flexparser-0.4-py3-none-any.whl.metadata (18 kB)\n",
            "Downloading Pint-0.24.4-py3-none-any.whl (302 kB)\n",
            "\u001b[2K   \u001b[90m━━━━━━━━━━━━━━━━━━━━━━━━━━━━━━━━━━━━━━━━\u001b[0m \u001b[32m302.0/302.0 kB\u001b[0m \u001b[31m5.1 MB/s\u001b[0m eta \u001b[36m0:00:00\u001b[0m\n",
            "\u001b[?25hDownloading flexcache-0.3-py3-none-any.whl (13 kB)\n",
            "Downloading flexparser-0.4-py3-none-any.whl (27 kB)\n",
            "Installing collected packages: flexparser, flexcache, pint\n",
            "Successfully installed flexcache-0.3 flexparser-0.4 pint-0.24.4\n"
          ]
        }
      ],
      "source": [
        "# install Pint\n",
        "\n",
        "try:\n",
        "    from pint import UnitRegistry\n",
        "except ImportError:\n",
        "    !pip install pint"
      ]
    },
    {
      "cell_type": "code",
      "source": [
        "# download modsim.py\n",
        "\n",
        "from os.path import basename, exists\n",
        "\n",
        "def download(url):\n",
        "    filename = basename(url)\n",
        "    if not exists(filename):\n",
        "        from urllib.request import urlretrieve\n",
        "        local, _ = urlretrieve(url, filename)\n",
        "        print('Downloaded ' + local)\n",
        "\n",
        "download('https://github.com/AllenDowney/ModSimPy/raw/master/' +\n",
        "         'modsim.py')\n"
      ],
      "metadata": {
        "colab": {
          "base_uri": "https://localhost:8080/"
        },
        "id": "B6juy0R9rjeO",
        "outputId": "946dde9a-63a3-481a-941e-afa3bf6c0d44"
      },
      "execution_count": 4,
      "outputs": [
        {
          "output_type": "stream",
          "name": "stdout",
          "text": [
            "Downloaded modsim.py\n"
          ]
        }
      ]
    },
    {
      "cell_type": "markdown",
      "source": [
        "Exercise 1\n"
      ],
      "metadata": {
        "id": "eyxZZCw3soYH"
      }
    },
    {
      "cell_type": "code",
      "source": [
        "v=at #there is no recognition of a vairable \"at\". for multiplicaation the user should specify the multiplication operand between the values(i.e. a and t)"
      ],
      "metadata": {
        "id": "tonkfrxes44T"
      },
      "execution_count": 86,
      "outputs": []
    },
    {
      "cell_type": "code",
      "source": [
        "a = 9.8*meter / second**2\n",
        "t = 3.4 * second\n",
        "\n",
        "v = a * t\n",
        "v"
      ],
      "metadata": {
        "colab": {
          "base_uri": "https://localhost:8080/",
          "height": 34
        },
        "id": "ft-Y3dK6strR",
        "outputId": "7854228a-0c9a-47c7-d7fc-967ad0dc880d"
      },
      "execution_count": 30,
      "outputs": [
        {
          "output_type": "execute_result",
          "data": {
            "text/plain": [
              "<Quantity(33.32, 'meter / second')>"
            ],
            "text/html": [
              "33.32 meter/second"
            ],
            "text/latex": "$33.32\\ \\frac{\\mathrm{meter}}{\\mathrm{second}}$"
          },
          "metadata": {},
          "execution_count": 30
        }
      ]
    },
    {
      "cell_type": "markdown",
      "source": [
        "Exercise 2"
      ],
      "metadata": {
        "id": "PJg0JjtNtCYP"
      }
    },
    {
      "cell_type": "code",
      "source": [
        "from numpy import pi\n",
        "pi"
      ],
      "metadata": {
        "colab": {
          "base_uri": "https://localhost:8080/"
        },
        "id": "wRezAlLvtEBg",
        "outputId": "b3d14141-393c-4778-bbac-f25087e56372"
      },
      "execution_count": 18,
      "outputs": [
        {
          "output_type": "execute_result",
          "data": {
            "text/plain": [
              "3.141592653589793"
            ]
          },
          "metadata": {},
          "execution_count": 18
        }
      ]
    },
    {
      "cell_type": "code",
      "source": [
        "from numpy import sin, cos\n",
        "result= sin(pi/4)**2 + cos(pi/4)**2\n",
        "result"
      ],
      "metadata": {
        "colab": {
          "base_uri": "https://localhost:8080/"
        },
        "id": "9kxmeaX3tGQO",
        "outputId": "27d7478a-57e6-454d-8d9b-b04409324719"
      },
      "execution_count": 19,
      "outputs": [
        {
          "output_type": "execute_result",
          "data": {
            "text/plain": [
              "1.0"
            ]
          },
          "metadata": {},
          "execution_count": 19
        }
      ]
    },
    {
      "cell_type": "markdown",
      "source": [
        "Exercise 3"
      ],
      "metadata": {
        "id": "VE3Y5qajtxtj"
      }
    },
    {
      "cell_type": "code",
      "source": [
        "h = 381 * meter"
      ],
      "metadata": {
        "id": "TaJJmBkptoXd"
      },
      "execution_count": 21,
      "outputs": []
    },
    {
      "cell_type": "code",
      "source": [
        "foot = units.foot\n",
        "pole_height = 10 * foot"
      ],
      "metadata": {
        "id": "pKkcilkpt38j"
      },
      "execution_count": 22,
      "outputs": []
    },
    {
      "cell_type": "code",
      "source": [
        "# Solution goes here\n",
        "pole_height+h  #units are expressed in terms of feet. units given to the value are assumed from unit of the first value"
      ],
      "metadata": {
        "colab": {
          "base_uri": "https://localhost:8080/",
          "height": 34
        },
        "id": "kDUPHi-bt3_8",
        "outputId": "1efaa9f8-5796-4f55-84a8-873678c71748"
      },
      "execution_count": 24,
      "outputs": [
        {
          "output_type": "execute_result",
          "data": {
            "text/plain": [
              "<Quantity(1260.0, 'foot')>"
            ],
            "text/html": [
              "1260.0 foot"
            ],
            "text/latex": "$1260.0\\ \\mathrm{foot}$"
          },
          "metadata": {},
          "execution_count": 24
        }
      ]
    },
    {
      "cell_type": "code",
      "source": [
        "h+pole_height#units are expressed in terms of meter"
      ],
      "metadata": {
        "colab": {
          "base_uri": "https://localhost:8080/",
          "height": 34
        },
        "id": "toMF-lL7t-kC",
        "outputId": "8f16a3db-5222-4f80-f838-f4d19a4c029c"
      },
      "execution_count": 25,
      "outputs": [
        {
          "output_type": "execute_result",
          "data": {
            "text/plain": [
              "<Quantity(384.048, 'meter')>"
            ],
            "text/html": [
              "384.048 meter"
            ],
            "text/latex": "$384.048\\ \\mathrm{meter}$"
          },
          "metadata": {},
          "execution_count": 25
        }
      ]
    },
    {
      "cell_type": "markdown",
      "source": [
        "Exercise 4"
      ],
      "metadata": {
        "id": "SG7Gu118uRr5"
      }
    },
    {
      "cell_type": "code",
      "source": [
        "a = 9.8 * meter / second**2\n",
        "t = 3.4 * second"
      ],
      "metadata": {
        "id": "kY9DDytXt_5G"
      },
      "execution_count": 28,
      "outputs": []
    },
    {
      "cell_type": "code",
      "source": [
        "a+t#quantities with different dimensions cannot be added(i.e. meters per second squared plus second=undefined expression)"
      ],
      "metadata": {
        "id": "36RltXxxuT4s"
      },
      "execution_count": 85,
      "outputs": []
    },
    {
      "cell_type": "markdown",
      "source": [
        "Exercise 5"
      ],
      "metadata": {
        "id": "jzqtbD0C2-7u"
      }
    },
    {
      "cell_type": "code",
      "source": [
        "\n",
        "distance=units.meter\n",
        "time=distance/(29*second)\n",
        "time"
      ],
      "metadata": {
        "colab": {
          "base_uri": "https://localhost:8080/",
          "height": 34
        },
        "id": "lpvMjsdE3Aff",
        "outputId": "7f830b09-d94d-4ed5-d929-f2438020d933"
      },
      "execution_count": 56,
      "outputs": [
        {
          "output_type": "execute_result",
          "data": {
            "text/plain": [
              "<Quantity(0.0344827586, 'meter / second')>"
            ],
            "text/html": [
              "0.034482758620689655 meter/second"
            ],
            "text/latex": "$0.034482758620689655\\ \\frac{\\mathrm{meter}}{\\mathrm{second}}$"
          },
          "metadata": {},
          "execution_count": 56
        }
      ]
    },
    {
      "cell_type": "markdown",
      "source": [
        "Exercise 6"
      ],
      "metadata": {
        "id": "mSrbAvPUvWJi"
      }
    },
    {
      "cell_type": "code",
      "source": [
        "\n",
        "from numpy import sqrt\n",
        "distance=units.meter\n",
        "time=distance/(29*second)\n",
        "time"
      ],
      "metadata": {
        "colab": {
          "base_uri": "https://localhost:8080/",
          "height": 34
        },
        "id": "n3FA5AtnuUaq",
        "outputId": "50779c11-d7fd-41dc-b6ce-c2a2da685052"
      },
      "execution_count": 33,
      "outputs": [
        {
          "output_type": "execute_result",
          "data": {
            "text/plain": [
              "<Quantity(0.0344827586, 'meter / second')>"
            ],
            "text/html": [
              "0.034482758620689655 meter/second"
            ],
            "text/latex": "$0.034482758620689655\\ \\frac{\\mathrm{meter}}{\\mathrm{second}}$"
          },
          "metadata": {},
          "execution_count": 33
        }
      ]
    },
    {
      "cell_type": "code",
      "source": [
        "a = 9.8 * meter / second**2\n",
        "h = 381 * meter"
      ],
      "metadata": {
        "id": "adA3OowjvYaz"
      },
      "execution_count": 34,
      "outputs": []
    },
    {
      "cell_type": "code",
      "source": [
        "terminal_v=29*meter/second\n",
        "time_to_reach_terminal_velocity=terminal_v/a#constant acceleration happens on free fall(i.e. 9.81 meters per squared seconds)u=0.\n",
        "time_to_reach_terminal_velocity"
      ],
      "metadata": {
        "colab": {
          "base_uri": "https://localhost:8080/",
          "height": 34
        },
        "id": "Oy77ZqsmwGSQ",
        "outputId": "3e5670ea-3a41-4d5a-8400-3e293b91bd15"
      },
      "execution_count": 37,
      "outputs": [
        {
          "output_type": "execute_result",
          "data": {
            "text/plain": [
              "<Quantity(2.95918367, 'second')>"
            ],
            "text/html": [
              "2.9591836734693877 second"
            ],
            "text/latex": "$2.9591836734693877\\ \\mathrm{second}$"
          },
          "metadata": {},
          "execution_count": 37
        }
      ]
    },
    {
      "cell_type": "code",
      "source": [
        "distance_fallen_over_time=0.5*a*time_to_reach_terminal_velocity**2\n",
        "distance_fallen_over_time"
      ],
      "metadata": {
        "colab": {
          "base_uri": "https://localhost:8080/",
          "height": 34
        },
        "id": "8uyO2JVdwtuz",
        "outputId": "141f05a2-9d91-4d25-dde6-6e0d02efe4a9"
      },
      "execution_count": 39,
      "outputs": [
        {
          "output_type": "execute_result",
          "data": {
            "text/plain": [
              "<Quantity(42.9081633, 'meter')>"
            ],
            "text/html": [
              "42.90816326530612 meter"
            ],
            "text/latex": "$42.90816326530612\\ \\mathrm{meter}$"
          },
          "metadata": {},
          "execution_count": 39
        }
      ]
    },
    {
      "cell_type": "code",
      "source": [
        "#How long would it take to fall the remaining distance with constant velocity  29  m/s?\n",
        "remaining_distance=h-distance_fallen_over_time\n",
        "remaining_distance"
      ],
      "metadata": {
        "colab": {
          "base_uri": "https://localhost:8080/",
          "height": 34
        },
        "id": "6o_j4FMdyPTm",
        "outputId": "f6d9a4fb-634a-4c82-873b-70e30e92ab04"
      },
      "execution_count": 40,
      "outputs": [
        {
          "output_type": "execute_result",
          "data": {
            "text/plain": [
              "<Quantity(338.091837, 'meter')>"
            ],
            "text/html": [
              "338.09183673469386 meter"
            ],
            "text/latex": "$338.09183673469386\\ \\mathrm{meter}$"
          },
          "metadata": {},
          "execution_count": 40
        }
      ]
    },
    {
      "cell_type": "code",
      "source": [
        "time_to_fall_remaining_distance=remaining_distance/terminal_v #time equals distance/speed\n",
        "time_to_fall_remaining_distance"
      ],
      "metadata": {
        "colab": {
          "base_uri": "https://localhost:8080/",
          "height": 34
        },
        "id": "s79TN4PhzRke",
        "outputId": "1231452d-c69d-486f-bcd8-c02e823a3db6"
      },
      "execution_count": 41,
      "outputs": [
        {
          "output_type": "execute_result",
          "data": {
            "text/plain": [
              "<Quantity(11.6583392, 'second')>"
            ],
            "text/html": [
              "11.658339197748065 second"
            ],
            "text/latex": "$11.658339197748065\\ \\mathrm{second}$"
          },
          "metadata": {},
          "execution_count": 41
        }
      ]
    },
    {
      "cell_type": "markdown",
      "source": [
        "Exercise 7"
      ],
      "metadata": {
        "id": "cJLRYD590DLc"
      }
    },
    {
      "cell_type": "code",
      "source": [
        "\n",
        "hour=units.hour\n",
        "meter=units.meter\n",
        "second=units.second\n",
        "mile=units.mile\n",
        "foot=units.foot\n",
        "v = (80 * mile / hour).to(meter/second)\n",
        "x = (60 * foot).to(meter)"
      ],
      "metadata": {
        "id": "mfuR4QbJztWu"
      },
      "execution_count": 82,
      "outputs": []
    },
    {
      "cell_type": "code",
      "source": [
        "\n",
        "v = (80 * mile / hour).to(meter/second)#an average pitcher throws at 80mph\n",
        "x = (60 * foot).to(meter)"
      ],
      "metadata": {
        "id": "3TpHVlf34wvl"
      },
      "execution_count": 83,
      "outputs": []
    },
    {
      "cell_type": "code",
      "source": [
        "\n",
        "\n",
        "t = x / v\n",
        "t"
      ],
      "metadata": {
        "colab": {
          "base_uri": "https://localhost:8080/",
          "height": 34
        },
        "id": "_wbaJvrC4wzJ",
        "outputId": "6c5f008e-d46d-47d7-dd01-c85fb707a232"
      },
      "execution_count": 84,
      "outputs": [
        {
          "output_type": "execute_result",
          "data": {
            "text/plain": [
              "<Quantity(0.511363636, 'second')>"
            ],
            "text/html": [
              "0.5113636363636362 second"
            ],
            "text/latex": "$0.5113636363636362\\ \\mathrm{second}$"
          },
          "metadata": {},
          "execution_count": 84
        }
      ]
    },
    {
      "cell_type": "code",
      "source": [
        "\n",
        "\n",
        "a = 9.8 * meter / second**2\n",
        "h = a * t**2 / 2\n",
        "h"
      ],
      "metadata": {
        "colab": {
          "base_uri": "https://localhost:8080/",
          "height": 34
        },
        "id": "tmH-_viu5QQx",
        "outputId": "1cc44267-e075-4b12-b4a2-6b5a4de7490b"
      },
      "execution_count": 87,
      "outputs": [
        {
          "output_type": "execute_result",
          "data": {
            "text/plain": [
              "<Quantity(1.28131457, 'meter')>"
            ],
            "text/html": [
              "1.2813145661157022 meter"
            ],
            "text/latex": "$1.2813145661157022\\ \\mathrm{meter}$"
          },
          "metadata": {},
          "execution_count": 87
        }
      ]
    },
    {
      "cell_type": "markdown",
      "source": [
        "Exercise 8"
      ],
      "metadata": {
        "id": "949Wsx_r0Hlz"
      }
    },
    {
      "cell_type": "code",
      "source": [
        "mile = units.mile\n",
        "kilometer = units.kilometer\n",
        "minute = units.minute"
      ],
      "metadata": {
        "id": "21fPry9u0F06"
      },
      "execution_count": 66,
      "outputs": []
    },
    {
      "cell_type": "code",
      "source": [
        "distance=10*kilometer\n",
        "time_taken_to_run=52*second+44*minute\n",
        "distance"
      ],
      "metadata": {
        "colab": {
          "base_uri": "https://localhost:8080/",
          "height": 34
        },
        "id": "KI0eCztc0g_K",
        "outputId": "02db5ce8-2090-4b6e-ac2c-7f2c2f8d0491"
      },
      "execution_count": 67,
      "outputs": [
        {
          "output_type": "execute_result",
          "data": {
            "text/plain": [
              "<Quantity(10, 'kilometer')>"
            ],
            "text/html": [
              "10 kilometer"
            ],
            "text/latex": "$10\\ \\mathrm{kilometer}$"
          },
          "metadata": {},
          "execution_count": 67
        }
      ]
    },
    {
      "cell_type": "code",
      "source": [
        "time_taken_to_run"
      ],
      "metadata": {
        "colab": {
          "base_uri": "https://localhost:8080/",
          "height": 34
        },
        "id": "VwPPWVbN39MT",
        "outputId": "ddc344c9-31e4-488f-ef51-3d75e31423e5"
      },
      "execution_count": 68,
      "outputs": [
        {
          "output_type": "execute_result",
          "data": {
            "text/plain": [
              "<Quantity(2692, 'second')>"
            ],
            "text/html": [
              "2692 second"
            ],
            "text/latex": "$2692\\ \\mathrm{second}$"
          },
          "metadata": {},
          "execution_count": 68
        }
      ]
    },
    {
      "cell_type": "code",
      "source": [
        "velocity=10*kilometre/time_taken_to_run\n",
        "velocity"
      ],
      "metadata": {
        "colab": {
          "base_uri": "https://localhost:8080/",
          "height": 34
        },
        "id": "y88PBaJa3o7P",
        "outputId": "5905af06-8077-4ec9-b1ce-d62ae0b49c73"
      },
      "execution_count": 89,
      "outputs": [
        {
          "output_type": "execute_result",
          "data": {
            "text/plain": [
              "<Quantity(0.00371471025, 'kilometer / second')>"
            ],
            "text/html": [
              "0.003714710252600297 kilometer/second"
            ],
            "text/latex": "$0.003714710252600297\\ \\frac{\\mathrm{kilometer}}{\\mathrm{second}}$"
          },
          "metadata": {},
          "execution_count": 89
        }
      ]
    },
    {
      "cell_type": "code",
      "source": [
        "average_pace=distance/time_taken_to_run\n",
        "average_pace"
      ],
      "metadata": {
        "colab": {
          "base_uri": "https://localhost:8080/",
          "height": 34
        },
        "id": "rUM8Omz11WnJ",
        "outputId": "85650439-8525-470f-ab76-534cbc5a4f1c"
      },
      "execution_count": 78,
      "outputs": [
        {
          "output_type": "execute_result",
          "data": {
            "text/plain": [
              "<Quantity(0.00371471025, 'kilometer / second')>"
            ],
            "text/html": [
              "0.003714710252600297 kilometer/second"
            ],
            "text/latex": "$0.003714710252600297\\ \\frac{\\mathrm{kilometer}}{\\mathrm{second}}$"
          },
          "metadata": {},
          "execution_count": 78
        }
      ]
    },
    {
      "cell_type": "code",
      "source": [
        "pace_per_km = (1 / velocity)\n",
        "pace_per_km"
      ],
      "metadata": {
        "colab": {
          "base_uri": "https://localhost:8080/",
          "height": 34
        },
        "id": "EDVzko4E3WOu",
        "outputId": "27222f27-43e7-4f18-ac6c-3b3c28e77da4"
      },
      "execution_count": 90,
      "outputs": [
        {
          "output_type": "execute_result",
          "data": {
            "text/plain": [
              "<Quantity(269.2, 'second / kilometer')>"
            ],
            "text/html": [
              "269.2 second/kilometer"
            ],
            "text/latex": "$269.2\\ \\frac{\\mathrm{second}}{\\mathrm{kilometer}}$"
          },
          "metadata": {},
          "execution_count": 90
        }
      ]
    },
    {
      "cell_type": "code",
      "source": [
        "pace_per_mile = pace_per_km.to(minute / mile)\n",
        "pace_per_mile"
      ],
      "metadata": {
        "colab": {
          "base_uri": "https://localhost:8080/",
          "height": 34
        },
        "id": "FFsf2I0f1cC8",
        "outputId": "d58fb89f-7671-4b03-ded0-8ef815335135"
      },
      "execution_count": 80,
      "outputs": [
        {
          "output_type": "execute_result",
          "data": {
            "text/plain": [
              "<Quantity(7.22059008, 'minute / mile')>"
            ],
            "text/html": [
              "7.220590080000001 minute/mile"
            ],
            "text/latex": "$7.220590080000001\\ \\frac{\\mathrm{minute}}{\\mathrm{mile}}$"
          },
          "metadata": {},
          "execution_count": 80
        }
      ]
    },
    {
      "cell_type": "code",
      "source": [],
      "metadata": {
        "id": "J-zCX69v18Kf"
      },
      "execution_count": null,
      "outputs": []
    }
  ]
}