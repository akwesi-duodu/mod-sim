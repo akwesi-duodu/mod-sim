{
  "cells": [
    {
      "cell_type": "markdown",
      "id": "a8b892c8",
      "metadata": {
        "id": "a8b892c8"
      },
      "source": [
        "Printed and electronic copies of *Modeling and Simulation in Python* are available from [No Starch Press](https://nostarch.com/modeling-and-simulation-python) and [Bookshop.org](https://bookshop.org/p/books/modeling-and-simulation-in-python-allen-b-downey/17836697?ean=9781718502161) and [Amazon](https://amzn.to/3y9UxNb)."
      ]
    },
    {
      "cell_type": "markdown",
      "id": "victorian-latitude",
      "metadata": {
        "id": "victorian-latitude"
      },
      "source": [
        "# Bike Share System"
      ]
    },
    {
      "cell_type": "markdown",
      "id": "imported-table",
      "metadata": {
        "id": "imported-table",
        "tags": []
      },
      "source": [
        "*Modeling and Simulation in Python*\n",
        "\n",
        "Copyright 2021 Allen Downey\n",
        "\n",
        "License: [Creative Commons Attribution-NonCommercial-ShareAlike 4.0 International](https://creativecommons.org/licenses/by-nc-sa/4.0/)"
      ]
    },
    {
      "cell_type": "code",
      "execution_count": 217,
      "id": "electoral-turkey",
      "metadata": {
        "ExecuteTime": {
          "end_time": "2025-01-21T11:02:53.507517Z",
          "start_time": "2025-01-21T11:02:52.775270Z"
        },
        "id": "electoral-turkey",
        "tags": []
      },
      "outputs": [],
      "source": [
        "# install Pint if necessary\n",
        "\n",
        "try:\n",
        "    import pint\n",
        "except ImportError:\n",
        "    !pip install pint"
      ]
    },
    {
      "cell_type": "code",
      "execution_count": 218,
      "id": "formal-context",
      "metadata": {
        "ExecuteTime": {
          "end_time": "2025-01-21T11:02:54.067337Z",
          "start_time": "2025-01-21T11:02:53.508543Z"
        },
        "id": "formal-context",
        "tags": []
      },
      "outputs": [],
      "source": [
        "# download modsim.py if necessary\n",
        "\n",
        "from os.path import basename, exists\n",
        "\n",
        "def download(url):\n",
        "    filename = basename(url)\n",
        "    if not exists(filename):\n",
        "        from urllib.request import urlretrieve\n",
        "        local, _ = urlretrieve(url, filename)\n",
        "        print('Downloaded ' + local)\n",
        "\n",
        "download('https://raw.githubusercontent.com/AllenDowney/' +\n",
        "         'ModSimPy/master/modsim.py')"
      ]
    },
    {
      "cell_type": "code",
      "execution_count": 219,
      "id": "progressive-typing",
      "metadata": {
        "ExecuteTime": {
          "end_time": "2025-01-21T11:02:54.965162Z",
          "start_time": "2025-01-21T11:02:54.068521Z"
        },
        "id": "progressive-typing",
        "tags": []
      },
      "outputs": [],
      "source": [
        "# import functions from modsim\n",
        "\n",
        "from modsim import *"
      ]
    },
    {
      "cell_type": "markdown",
      "id": "unlimited-antenna",
      "metadata": {
        "id": "unlimited-antenna"
      },
      "source": [
        "This chapter presents a simple model of a bike share system and\n",
        "demonstrates the features of Python we'll use to develop simulations of real-world systems.\n",
        "\n",
        "Along the way, we'll make decisions about how to model the system. In\n",
        "the next chapter we'll review these decisions and gradually improve the model."
      ]
    },
    {
      "cell_type": "markdown",
      "id": "electronic-radius",
      "metadata": {
        "id": "electronic-radius"
      },
      "source": [
        "This chapter is available as a Jupyter notebook where you can read the text, run the code, and work on the exercises.\n",
        "Click here to access the notebooks: <https://allendowney.github.io/ModSimPy/>."
      ]
    },
    {
      "cell_type": "markdown",
      "id": "above-denial",
      "metadata": {
        "id": "above-denial"
      },
      "source": [
        "## Modeling a Bike Share System\n",
        "\n",
        "Imagine a bike share system for students traveling between Olin College and Wellesley College, which are about three miles apart in eastern Massachusetts.\n",
        "\n",
        "Suppose the system contains 12 bikes and two bike racks, one at Olin and one at Wellesley, each with the capacity to hold 12 bikes.\n",
        "\n",
        "As students arrive, check out a bike, and ride to the other campus, the number of bikes in each location changes. In the simulation, we'll need to keep track of where the bikes are. To do that, we'll use a function called `State`, which is defined in the ModSim library."
      ]
    },
    {
      "cell_type": "code",
      "execution_count": 220,
      "id": "incorrect-comparison",
      "metadata": {
        "ExecuteTime": {
          "end_time": "2025-01-21T11:02:54.969915Z",
          "start_time": "2025-01-21T11:02:54.966439Z"
        },
        "id": "incorrect-comparison"
      },
      "outputs": [],
      "source": [
        "bikeshare = State(olin=10, wellesley=2)"
      ]
    },
    {
      "cell_type": "markdown",
      "id": "living-wayne",
      "metadata": {
        "id": "living-wayne"
      },
      "source": [
        "The equations in parentheses create two variables, `olin` and `wellesley`, and give them the values `10` and `2`.\n",
        "The `State` function stores these variables and their values in a `State` object, which gets assigned to a new variable named `bikeshare`.\n",
        "\n",
        "Variables stored inside a `State` object are called *state variables*.\n",
        "In this example, the state variables represent the number of\n",
        "bikes at each location. Their values indicate that there are 10 bikes at Olin and 2 at Wellesley.\n",
        "\n",
        "The `State` object is assigned to a new variable named `bikeshare`.\n",
        "We can get the value of a variable in a `State` object using the *dot operator*, like this:"
      ]
    },
    {
      "cell_type": "code",
      "execution_count": 221,
      "id": "brief-diversity",
      "metadata": {
        "ExecuteTime": {
          "end_time": "2025-01-21T11:02:54.974316Z",
          "start_time": "2025-01-21T11:02:54.970502Z"
        },
        "colab": {
          "base_uri": "https://localhost:8080/"
        },
        "id": "brief-diversity",
        "outputId": "dd0a723a-e5db-4c62-ec33-9c96dc8e0e32"
      },
      "outputs": [
        {
          "data": {
            "text/plain": [
              "10"
            ]
          },
          "execution_count": 221,
          "metadata": {},
          "output_type": "execute_result"
        }
      ],
      "source": [
        "bikeshare.olin"
      ]
    },
    {
      "cell_type": "markdown",
      "id": "intermediate-midwest",
      "metadata": {
        "id": "intermediate-midwest"
      },
      "source": [
        "And this:"
      ]
    },
    {
      "cell_type": "code",
      "execution_count": 222,
      "id": "designed-brazilian",
      "metadata": {
        "ExecuteTime": {
          "end_time": "2025-01-21T11:02:54.976409Z",
          "start_time": "2025-01-21T11:02:54.974873Z"
        },
        "colab": {
          "base_uri": "https://localhost:8080/"
        },
        "id": "designed-brazilian",
        "outputId": "a823fae8-33f7-49d9-aa00-792e766aa585"
      },
      "outputs": [
        {
          "data": {
            "text/plain": [
              "2"
            ]
          },
          "execution_count": 222,
          "metadata": {},
          "output_type": "execute_result"
        }
      ],
      "source": [
        "bikeshare.wellesley"
      ]
    },
    {
      "cell_type": "markdown",
      "id": "phantom-oklahoma",
      "metadata": {
        "id": "phantom-oklahoma"
      },
      "source": [
        "Or, to display all of the state variables and their values, you can enter just the name of the object:"
      ]
    },
    {
      "cell_type": "code",
      "execution_count": 223,
      "id": "impaired-potter",
      "metadata": {
        "ExecuteTime": {
          "end_time": "2025-01-21T11:02:54.979510Z",
          "start_time": "2025-01-21T11:02:54.977007Z"
        },
        "colab": {
          "base_uri": "https://localhost:8080/",
          "height": 147
        },
        "id": "impaired-potter",
        "outputId": "1ba37ada-3a0b-437a-a342-bcf3ae402a2c"
      },
      "outputs": [
        {
          "data": {
            "text/html": [
              "<div>\n",
              "<style scoped>\n",
              "    .dataframe tbody tr th:only-of-type {\n",
              "        vertical-align: middle;\n",
              "    }\n",
              "\n",
              "    .dataframe tbody tr th {\n",
              "        vertical-align: top;\n",
              "    }\n",
              "\n",
              "    .dataframe thead th {\n",
              "        text-align: right;\n",
              "    }\n",
              "</style>\n",
              "<table border=\"1\" class=\"dataframe\">\n",
              "  <thead>\n",
              "    <tr style=\"text-align: right;\">\n",
              "      <th></th>\n",
              "      <th>state</th>\n",
              "    </tr>\n",
              "  </thead>\n",
              "  <tbody>\n",
              "    <tr>\n",
              "      <th>olin</th>\n",
              "      <td>10</td>\n",
              "    </tr>\n",
              "    <tr>\n",
              "      <th>wellesley</th>\n",
              "      <td>2</td>\n",
              "    </tr>\n",
              "  </tbody>\n",
              "</table>\n",
              "</div><br><label><b>dtype:</b> int64</label>"
            ],
            "text/plain": [
              "olin         10\n",
              "wellesley     2\n",
              "Name: state, dtype: int64"
            ]
          },
          "execution_count": 223,
          "metadata": {},
          "output_type": "execute_result"
        }
      ],
      "source": [
        "bikeshare"
      ]
    },
    {
      "cell_type": "markdown",
      "id": "vital-journal",
      "metadata": {
        "id": "vital-journal"
      },
      "source": [
        "These values make up the *state* of the system."
      ]
    },
    {
      "cell_type": "markdown",
      "id": "fleet-beijing",
      "metadata": {
        "id": "fleet-beijing",
        "tags": []
      },
      "source": [
        "The ModSim library provides a function called `show` that displays a `State` object as a table."
      ]
    },
    {
      "cell_type": "code",
      "execution_count": 224,
      "id": "basic-fabric",
      "metadata": {
        "ExecuteTime": {
          "end_time": "2025-01-21T11:02:54.985938Z",
          "start_time": "2025-01-21T11:02:54.980298Z"
        },
        "colab": {
          "base_uri": "https://localhost:8080/",
          "height": 112
        },
        "id": "basic-fabric",
        "outputId": "bf039628-4126-49fd-db46-527f44ab7908",
        "tags": []
      },
      "outputs": [
        {
          "data": {
            "application/vnd.google.colaboratory.intrinsic+json": {
              "summary": "{\n  \"name\": \"show(bikeshare)\",\n  \"rows\": 2,\n  \"fields\": [\n    {\n      \"column\": \"state\",\n      \"properties\": {\n        \"dtype\": \"number\",\n        \"std\": 5,\n        \"min\": 2,\n        \"max\": 10,\n        \"num_unique_values\": 2,\n        \"samples\": [\n          2,\n          10\n        ],\n        \"semantic_type\": \"\",\n        \"description\": \"\"\n      }\n    }\n  ]\n}",
              "type": "dataframe"
            },
            "text/html": [
              "\n",
              "  <div id=\"df-f4ae4381-939e-49b7-9475-7bbb2e1dda64\" class=\"colab-df-container\">\n",
              "    <div>\n",
              "<style scoped>\n",
              "    .dataframe tbody tr th:only-of-type {\n",
              "        vertical-align: middle;\n",
              "    }\n",
              "\n",
              "    .dataframe tbody tr th {\n",
              "        vertical-align: top;\n",
              "    }\n",
              "\n",
              "    .dataframe thead th {\n",
              "        text-align: right;\n",
              "    }\n",
              "</style>\n",
              "<table border=\"1\" class=\"dataframe\">\n",
              "  <thead>\n",
              "    <tr style=\"text-align: right;\">\n",
              "      <th></th>\n",
              "      <th>state</th>\n",
              "    </tr>\n",
              "  </thead>\n",
              "  <tbody>\n",
              "    <tr>\n",
              "      <th>olin</th>\n",
              "      <td>10</td>\n",
              "    </tr>\n",
              "    <tr>\n",
              "      <th>wellesley</th>\n",
              "      <td>2</td>\n",
              "    </tr>\n",
              "  </tbody>\n",
              "</table>\n",
              "</div>\n",
              "    <div class=\"colab-df-buttons\">\n",
              "\n",
              "  <div class=\"colab-df-container\">\n",
              "    <button class=\"colab-df-convert\" onclick=\"convertToInteractive('df-f4ae4381-939e-49b7-9475-7bbb2e1dda64')\"\n",
              "            title=\"Convert this dataframe to an interactive table.\"\n",
              "            style=\"display:none;\">\n",
              "\n",
              "  <svg xmlns=\"http://www.w3.org/2000/svg\" height=\"24px\" viewBox=\"0 -960 960 960\">\n",
              "    <path d=\"M120-120v-720h720v720H120Zm60-500h600v-160H180v160Zm220 220h160v-160H400v160Zm0 220h160v-160H400v160ZM180-400h160v-160H180v160Zm440 0h160v-160H620v160ZM180-180h160v-160H180v160Zm440 0h160v-160H620v160Z\"/>\n",
              "  </svg>\n",
              "    </button>\n",
              "\n",
              "  <style>\n",
              "    .colab-df-container {\n",
              "      display:flex;\n",
              "      gap: 12px;\n",
              "    }\n",
              "\n",
              "    .colab-df-convert {\n",
              "      background-color: #E8F0FE;\n",
              "      border: none;\n",
              "      border-radius: 50%;\n",
              "      cursor: pointer;\n",
              "      display: none;\n",
              "      fill: #1967D2;\n",
              "      height: 32px;\n",
              "      padding: 0 0 0 0;\n",
              "      width: 32px;\n",
              "    }\n",
              "\n",
              "    .colab-df-convert:hover {\n",
              "      background-color: #E2EBFA;\n",
              "      box-shadow: 0px 1px 2px rgba(60, 64, 67, 0.3), 0px 1px 3px 1px rgba(60, 64, 67, 0.15);\n",
              "      fill: #174EA6;\n",
              "    }\n",
              "\n",
              "    .colab-df-buttons div {\n",
              "      margin-bottom: 4px;\n",
              "    }\n",
              "\n",
              "    [theme=dark] .colab-df-convert {\n",
              "      background-color: #3B4455;\n",
              "      fill: #D2E3FC;\n",
              "    }\n",
              "\n",
              "    [theme=dark] .colab-df-convert:hover {\n",
              "      background-color: #434B5C;\n",
              "      box-shadow: 0px 1px 3px 1px rgba(0, 0, 0, 0.15);\n",
              "      filter: drop-shadow(0px 1px 2px rgba(0, 0, 0, 0.3));\n",
              "      fill: #FFFFFF;\n",
              "    }\n",
              "  </style>\n",
              "\n",
              "    <script>\n",
              "      const buttonEl =\n",
              "        document.querySelector('#df-f4ae4381-939e-49b7-9475-7bbb2e1dda64 button.colab-df-convert');\n",
              "      buttonEl.style.display =\n",
              "        google.colab.kernel.accessAllowed ? 'block' : 'none';\n",
              "\n",
              "      async function convertToInteractive(key) {\n",
              "        const element = document.querySelector('#df-f4ae4381-939e-49b7-9475-7bbb2e1dda64');\n",
              "        const dataTable =\n",
              "          await google.colab.kernel.invokeFunction('convertToInteractive',\n",
              "                                                    [key], {});\n",
              "        if (!dataTable) return;\n",
              "\n",
              "        const docLinkHtml = 'Like what you see? Visit the ' +\n",
              "          '<a target=\"_blank\" href=https://colab.research.google.com/notebooks/data_table.ipynb>data table notebook</a>'\n",
              "          + ' to learn more about interactive tables.';\n",
              "        element.innerHTML = '';\n",
              "        dataTable['output_type'] = 'display_data';\n",
              "        await google.colab.output.renderOutput(dataTable, element);\n",
              "        const docLink = document.createElement('div');\n",
              "        docLink.innerHTML = docLinkHtml;\n",
              "        element.appendChild(docLink);\n",
              "      }\n",
              "    </script>\n",
              "  </div>\n",
              "\n",
              "\n",
              "<div id=\"df-e7812e8d-cdac-470b-9c01-9f3852279a16\">\n",
              "  <button class=\"colab-df-quickchart\" onclick=\"quickchart('df-e7812e8d-cdac-470b-9c01-9f3852279a16')\"\n",
              "            title=\"Suggest charts\"\n",
              "            style=\"display:none;\">\n",
              "\n",
              "<svg xmlns=\"http://www.w3.org/2000/svg\" height=\"24px\"viewBox=\"0 0 24 24\"\n",
              "     width=\"24px\">\n",
              "    <g>\n",
              "        <path d=\"M19 3H5c-1.1 0-2 .9-2 2v14c0 1.1.9 2 2 2h14c1.1 0 2-.9 2-2V5c0-1.1-.9-2-2-2zM9 17H7v-7h2v7zm4 0h-2V7h2v10zm4 0h-2v-4h2v4z\"/>\n",
              "    </g>\n",
              "</svg>\n",
              "  </button>\n",
              "\n",
              "<style>\n",
              "  .colab-df-quickchart {\n",
              "      --bg-color: #E8F0FE;\n",
              "      --fill-color: #1967D2;\n",
              "      --hover-bg-color: #E2EBFA;\n",
              "      --hover-fill-color: #174EA6;\n",
              "      --disabled-fill-color: #AAA;\n",
              "      --disabled-bg-color: #DDD;\n",
              "  }\n",
              "\n",
              "  [theme=dark] .colab-df-quickchart {\n",
              "      --bg-color: #3B4455;\n",
              "      --fill-color: #D2E3FC;\n",
              "      --hover-bg-color: #434B5C;\n",
              "      --hover-fill-color: #FFFFFF;\n",
              "      --disabled-bg-color: #3B4455;\n",
              "      --disabled-fill-color: #666;\n",
              "  }\n",
              "\n",
              "  .colab-df-quickchart {\n",
              "    background-color: var(--bg-color);\n",
              "    border: none;\n",
              "    border-radius: 50%;\n",
              "    cursor: pointer;\n",
              "    display: none;\n",
              "    fill: var(--fill-color);\n",
              "    height: 32px;\n",
              "    padding: 0;\n",
              "    width: 32px;\n",
              "  }\n",
              "\n",
              "  .colab-df-quickchart:hover {\n",
              "    background-color: var(--hover-bg-color);\n",
              "    box-shadow: 0 1px 2px rgba(60, 64, 67, 0.3), 0 1px 3px 1px rgba(60, 64, 67, 0.15);\n",
              "    fill: var(--button-hover-fill-color);\n",
              "  }\n",
              "\n",
              "  .colab-df-quickchart-complete:disabled,\n",
              "  .colab-df-quickchart-complete:disabled:hover {\n",
              "    background-color: var(--disabled-bg-color);\n",
              "    fill: var(--disabled-fill-color);\n",
              "    box-shadow: none;\n",
              "  }\n",
              "\n",
              "  .colab-df-spinner {\n",
              "    border: 2px solid var(--fill-color);\n",
              "    border-color: transparent;\n",
              "    border-bottom-color: var(--fill-color);\n",
              "    animation:\n",
              "      spin 1s steps(1) infinite;\n",
              "  }\n",
              "\n",
              "  @keyframes spin {\n",
              "    0% {\n",
              "      border-color: transparent;\n",
              "      border-bottom-color: var(--fill-color);\n",
              "      border-left-color: var(--fill-color);\n",
              "    }\n",
              "    20% {\n",
              "      border-color: transparent;\n",
              "      border-left-color: var(--fill-color);\n",
              "      border-top-color: var(--fill-color);\n",
              "    }\n",
              "    30% {\n",
              "      border-color: transparent;\n",
              "      border-left-color: var(--fill-color);\n",
              "      border-top-color: var(--fill-color);\n",
              "      border-right-color: var(--fill-color);\n",
              "    }\n",
              "    40% {\n",
              "      border-color: transparent;\n",
              "      border-right-color: var(--fill-color);\n",
              "      border-top-color: var(--fill-color);\n",
              "    }\n",
              "    60% {\n",
              "      border-color: transparent;\n",
              "      border-right-color: var(--fill-color);\n",
              "    }\n",
              "    80% {\n",
              "      border-color: transparent;\n",
              "      border-right-color: var(--fill-color);\n",
              "      border-bottom-color: var(--fill-color);\n",
              "    }\n",
              "    90% {\n",
              "      border-color: transparent;\n",
              "      border-bottom-color: var(--fill-color);\n",
              "    }\n",
              "  }\n",
              "</style>\n",
              "\n",
              "  <script>\n",
              "    async function quickchart(key) {\n",
              "      const quickchartButtonEl =\n",
              "        document.querySelector('#' + key + ' button');\n",
              "      quickchartButtonEl.disabled = true;  // To prevent multiple clicks.\n",
              "      quickchartButtonEl.classList.add('colab-df-spinner');\n",
              "      try {\n",
              "        const charts = await google.colab.kernel.invokeFunction(\n",
              "            'suggestCharts', [key], {});\n",
              "      } catch (error) {\n",
              "        console.error('Error during call to suggestCharts:', error);\n",
              "      }\n",
              "      quickchartButtonEl.classList.remove('colab-df-spinner');\n",
              "      quickchartButtonEl.classList.add('colab-df-quickchart-complete');\n",
              "    }\n",
              "    (() => {\n",
              "      let quickchartButtonEl =\n",
              "        document.querySelector('#df-e7812e8d-cdac-470b-9c01-9f3852279a16 button');\n",
              "      quickchartButtonEl.style.display =\n",
              "        google.colab.kernel.accessAllowed ? 'block' : 'none';\n",
              "    })();\n",
              "  </script>\n",
              "</div>\n",
              "\n",
              "    </div>\n",
              "  </div>\n"
            ],
            "text/plain": [
              "           state\n",
              "olin          10\n",
              "wellesley      2"
            ]
          },
          "execution_count": 224,
          "metadata": {},
          "output_type": "execute_result"
        }
      ],
      "source": [
        "show(bikeshare)"
      ]
    },
    {
      "cell_type": "markdown",
      "id": "specified-definition",
      "metadata": {
        "id": "specified-definition",
        "tags": []
      },
      "source": [
        "You don't have to use `show`, but I think the results look better."
      ]
    },
    {
      "cell_type": "markdown",
      "id": "delayed-ocean",
      "metadata": {
        "id": "delayed-ocean"
      },
      "source": [
        "We can update the state by assigning new values to the variables.\n",
        "For example, if a student moves a bike from Olin to Wellesley, we can figure out the new values and assign them:"
      ]
    },
    {
      "cell_type": "code",
      "execution_count": 225,
      "id": "floppy-trainer",
      "metadata": {
        "ExecuteTime": {
          "end_time": "2025-01-21T11:02:54.988536Z",
          "start_time": "2025-01-21T11:02:54.986517Z"
        },
        "id": "floppy-trainer"
      },
      "outputs": [],
      "source": [
        "bikeshare.olin = 9\n",
        "bikeshare.wellesley = 3"
      ]
    },
    {
      "cell_type": "markdown",
      "id": "natural-gossip",
      "metadata": {
        "id": "natural-gossip"
      },
      "source": [
        "Or we can use *update operators*, `-=` and `+=`, to subtract 1 from\n",
        "`olin` and add 1 to `wellesley`:"
      ]
    },
    {
      "cell_type": "code",
      "execution_count": 226,
      "id": "hungarian-bride",
      "metadata": {
        "ExecuteTime": {
          "end_time": "2025-01-21T11:02:54.992461Z",
          "start_time": "2025-01-21T11:02:54.990949Z"
        },
        "id": "hungarian-bride"
      },
      "outputs": [],
      "source": [
        "bikeshare.olin -= 1\n",
        "bikeshare.wellesley += 1"
      ]
    },
    {
      "cell_type": "markdown",
      "id": "radical-mills",
      "metadata": {
        "id": "radical-mills"
      },
      "source": [
        "The result is the same either way."
      ]
    },
    {
      "cell_type": "markdown",
      "id": "controversial-opportunity",
      "metadata": {
        "id": "controversial-opportunity"
      },
      "source": [
        "## Defining Functions\n",
        "\n",
        "So far we have used functions defined in NumPy and the ModSim library. Now we're going to define our own functions.\n",
        "\n",
        "When you are developing code in Jupyter, it is often efficient to write a few lines of code, test them to confirm they do what you intend, and then use them to define a new function. For example, these lines move a bike from Olin to Wellesley:"
      ]
    },
    {
      "cell_type": "code",
      "execution_count": 227,
      "id": "vertical-drawing",
      "metadata": {
        "ExecuteTime": {
          "end_time": "2025-01-21T11:02:54.994749Z",
          "start_time": "2025-01-21T11:02:54.993192Z"
        },
        "id": "vertical-drawing"
      },
      "outputs": [],
      "source": [
        "bikeshare.olin -= 1\n",
        "bikeshare.wellesley += 1"
      ]
    },
    {
      "cell_type": "markdown",
      "id": "approximate-rolling",
      "metadata": {
        "id": "approximate-rolling"
      },
      "source": [
        "Rather than repeat them every time a bike moves, we can define a new\n",
        "function:"
      ]
    },
    {
      "cell_type": "code",
      "execution_count": 228,
      "id": "significant-nutrition",
      "metadata": {
        "ExecuteTime": {
          "end_time": "2025-01-21T11:02:54.996967Z",
          "start_time": "2025-01-21T11:02:54.995438Z"
        },
        "id": "significant-nutrition"
      },
      "outputs": [],
      "source": [
        "def bike_to_wellesley():\n",
        "    bikeshare.olin -= 1\n",
        "    bikeshare.wellesley += 1"
      ]
    },
    {
      "cell_type": "markdown",
      "id": "generous-tracker",
      "metadata": {
        "id": "generous-tracker"
      },
      "source": [
        "`def` is a special word in Python that indicates we are defining a new\n",
        "function. The name of the function is `bike_to_wellesley`. The empty\n",
        "parentheses indicate that this function requires no additional\n",
        "information when it runs. The colon indicates the beginning of an\n",
        "indented *code block*.\n",
        "\n",
        "The next two lines are the *body* of the function. They have to be\n",
        "indented; by convention, the indentation is four spaces.\n",
        "\n",
        "When you define a function, it has no immediate effect. The body of the\n",
        "function doesn't run until you *call* the function. Here's how to call\n",
        "this function:"
      ]
    },
    {
      "cell_type": "code",
      "execution_count": 229,
      "id": "moving-jurisdiction",
      "metadata": {
        "ExecuteTime": {
          "end_time": "2025-01-21T11:02:54.999790Z",
          "start_time": "2025-01-21T11:02:54.997620Z"
        },
        "id": "moving-jurisdiction"
      },
      "outputs": [],
      "source": [
        "bike_to_wellesley()"
      ]
    },
    {
      "cell_type": "markdown",
      "id": "meaningful-christmas",
      "metadata": {
        "id": "meaningful-christmas"
      },
      "source": [
        "When you call the function, it runs the statements in the body, which\n",
        "update the variables of the `bikeshare` object; you can check by\n",
        "displaying the new state."
      ]
    },
    {
      "cell_type": "code",
      "execution_count": 230,
      "id": "proper-symposium",
      "metadata": {
        "ExecuteTime": {
          "end_time": "2025-01-21T11:02:55.004846Z",
          "start_time": "2025-01-21T11:02:55.000683Z"
        },
        "colab": {
          "base_uri": "https://localhost:8080/",
          "height": 112
        },
        "id": "proper-symposium",
        "outputId": "21f63e97-674f-4d3f-b3ca-fc81c6372624"
      },
      "outputs": [
        {
          "data": {
            "application/vnd.google.colaboratory.intrinsic+json": {
              "summary": "{\n  \"name\": \"show(bikeshare)\",\n  \"rows\": 2,\n  \"fields\": [\n    {\n      \"column\": \"state\",\n      \"properties\": {\n        \"dtype\": \"number\",\n        \"std\": 0,\n        \"min\": 6,\n        \"max\": 6,\n        \"num_unique_values\": 1,\n        \"samples\": [\n          6\n        ],\n        \"semantic_type\": \"\",\n        \"description\": \"\"\n      }\n    }\n  ]\n}",
              "type": "dataframe"
            },
            "text/html": [
              "\n",
              "  <div id=\"df-89e7eea7-f538-44ab-a7b9-2b81d6df9007\" class=\"colab-df-container\">\n",
              "    <div>\n",
              "<style scoped>\n",
              "    .dataframe tbody tr th:only-of-type {\n",
              "        vertical-align: middle;\n",
              "    }\n",
              "\n",
              "    .dataframe tbody tr th {\n",
              "        vertical-align: top;\n",
              "    }\n",
              "\n",
              "    .dataframe thead th {\n",
              "        text-align: right;\n",
              "    }\n",
              "</style>\n",
              "<table border=\"1\" class=\"dataframe\">\n",
              "  <thead>\n",
              "    <tr style=\"text-align: right;\">\n",
              "      <th></th>\n",
              "      <th>state</th>\n",
              "    </tr>\n",
              "  </thead>\n",
              "  <tbody>\n",
              "    <tr>\n",
              "      <th>olin</th>\n",
              "      <td>6</td>\n",
              "    </tr>\n",
              "    <tr>\n",
              "      <th>wellesley</th>\n",
              "      <td>6</td>\n",
              "    </tr>\n",
              "  </tbody>\n",
              "</table>\n",
              "</div>\n",
              "    <div class=\"colab-df-buttons\">\n",
              "\n",
              "  <div class=\"colab-df-container\">\n",
              "    <button class=\"colab-df-convert\" onclick=\"convertToInteractive('df-89e7eea7-f538-44ab-a7b9-2b81d6df9007')\"\n",
              "            title=\"Convert this dataframe to an interactive table.\"\n",
              "            style=\"display:none;\">\n",
              "\n",
              "  <svg xmlns=\"http://www.w3.org/2000/svg\" height=\"24px\" viewBox=\"0 -960 960 960\">\n",
              "    <path d=\"M120-120v-720h720v720H120Zm60-500h600v-160H180v160Zm220 220h160v-160H400v160Zm0 220h160v-160H400v160ZM180-400h160v-160H180v160Zm440 0h160v-160H620v160ZM180-180h160v-160H180v160Zm440 0h160v-160H620v160Z\"/>\n",
              "  </svg>\n",
              "    </button>\n",
              "\n",
              "  <style>\n",
              "    .colab-df-container {\n",
              "      display:flex;\n",
              "      gap: 12px;\n",
              "    }\n",
              "\n",
              "    .colab-df-convert {\n",
              "      background-color: #E8F0FE;\n",
              "      border: none;\n",
              "      border-radius: 50%;\n",
              "      cursor: pointer;\n",
              "      display: none;\n",
              "      fill: #1967D2;\n",
              "      height: 32px;\n",
              "      padding: 0 0 0 0;\n",
              "      width: 32px;\n",
              "    }\n",
              "\n",
              "    .colab-df-convert:hover {\n",
              "      background-color: #E2EBFA;\n",
              "      box-shadow: 0px 1px 2px rgba(60, 64, 67, 0.3), 0px 1px 3px 1px rgba(60, 64, 67, 0.15);\n",
              "      fill: #174EA6;\n",
              "    }\n",
              "\n",
              "    .colab-df-buttons div {\n",
              "      margin-bottom: 4px;\n",
              "    }\n",
              "\n",
              "    [theme=dark] .colab-df-convert {\n",
              "      background-color: #3B4455;\n",
              "      fill: #D2E3FC;\n",
              "    }\n",
              "\n",
              "    [theme=dark] .colab-df-convert:hover {\n",
              "      background-color: #434B5C;\n",
              "      box-shadow: 0px 1px 3px 1px rgba(0, 0, 0, 0.15);\n",
              "      filter: drop-shadow(0px 1px 2px rgba(0, 0, 0, 0.3));\n",
              "      fill: #FFFFFF;\n",
              "    }\n",
              "  </style>\n",
              "\n",
              "    <script>\n",
              "      const buttonEl =\n",
              "        document.querySelector('#df-89e7eea7-f538-44ab-a7b9-2b81d6df9007 button.colab-df-convert');\n",
              "      buttonEl.style.display =\n",
              "        google.colab.kernel.accessAllowed ? 'block' : 'none';\n",
              "\n",
              "      async function convertToInteractive(key) {\n",
              "        const element = document.querySelector('#df-89e7eea7-f538-44ab-a7b9-2b81d6df9007');\n",
              "        const dataTable =\n",
              "          await google.colab.kernel.invokeFunction('convertToInteractive',\n",
              "                                                    [key], {});\n",
              "        if (!dataTable) return;\n",
              "\n",
              "        const docLinkHtml = 'Like what you see? Visit the ' +\n",
              "          '<a target=\"_blank\" href=https://colab.research.google.com/notebooks/data_table.ipynb>data table notebook</a>'\n",
              "          + ' to learn more about interactive tables.';\n",
              "        element.innerHTML = '';\n",
              "        dataTable['output_type'] = 'display_data';\n",
              "        await google.colab.output.renderOutput(dataTable, element);\n",
              "        const docLink = document.createElement('div');\n",
              "        docLink.innerHTML = docLinkHtml;\n",
              "        element.appendChild(docLink);\n",
              "      }\n",
              "    </script>\n",
              "  </div>\n",
              "\n",
              "\n",
              "<div id=\"df-36b19176-8586-482f-a9cf-f9aac4d59852\">\n",
              "  <button class=\"colab-df-quickchart\" onclick=\"quickchart('df-36b19176-8586-482f-a9cf-f9aac4d59852')\"\n",
              "            title=\"Suggest charts\"\n",
              "            style=\"display:none;\">\n",
              "\n",
              "<svg xmlns=\"http://www.w3.org/2000/svg\" height=\"24px\"viewBox=\"0 0 24 24\"\n",
              "     width=\"24px\">\n",
              "    <g>\n",
              "        <path d=\"M19 3H5c-1.1 0-2 .9-2 2v14c0 1.1.9 2 2 2h14c1.1 0 2-.9 2-2V5c0-1.1-.9-2-2-2zM9 17H7v-7h2v7zm4 0h-2V7h2v10zm4 0h-2v-4h2v4z\"/>\n",
              "    </g>\n",
              "</svg>\n",
              "  </button>\n",
              "\n",
              "<style>\n",
              "  .colab-df-quickchart {\n",
              "      --bg-color: #E8F0FE;\n",
              "      --fill-color: #1967D2;\n",
              "      --hover-bg-color: #E2EBFA;\n",
              "      --hover-fill-color: #174EA6;\n",
              "      --disabled-fill-color: #AAA;\n",
              "      --disabled-bg-color: #DDD;\n",
              "  }\n",
              "\n",
              "  [theme=dark] .colab-df-quickchart {\n",
              "      --bg-color: #3B4455;\n",
              "      --fill-color: #D2E3FC;\n",
              "      --hover-bg-color: #434B5C;\n",
              "      --hover-fill-color: #FFFFFF;\n",
              "      --disabled-bg-color: #3B4455;\n",
              "      --disabled-fill-color: #666;\n",
              "  }\n",
              "\n",
              "  .colab-df-quickchart {\n",
              "    background-color: var(--bg-color);\n",
              "    border: none;\n",
              "    border-radius: 50%;\n",
              "    cursor: pointer;\n",
              "    display: none;\n",
              "    fill: var(--fill-color);\n",
              "    height: 32px;\n",
              "    padding: 0;\n",
              "    width: 32px;\n",
              "  }\n",
              "\n",
              "  .colab-df-quickchart:hover {\n",
              "    background-color: var(--hover-bg-color);\n",
              "    box-shadow: 0 1px 2px rgba(60, 64, 67, 0.3), 0 1px 3px 1px rgba(60, 64, 67, 0.15);\n",
              "    fill: var(--button-hover-fill-color);\n",
              "  }\n",
              "\n",
              "  .colab-df-quickchart-complete:disabled,\n",
              "  .colab-df-quickchart-complete:disabled:hover {\n",
              "    background-color: var(--disabled-bg-color);\n",
              "    fill: var(--disabled-fill-color);\n",
              "    box-shadow: none;\n",
              "  }\n",
              "\n",
              "  .colab-df-spinner {\n",
              "    border: 2px solid var(--fill-color);\n",
              "    border-color: transparent;\n",
              "    border-bottom-color: var(--fill-color);\n",
              "    animation:\n",
              "      spin 1s steps(1) infinite;\n",
              "  }\n",
              "\n",
              "  @keyframes spin {\n",
              "    0% {\n",
              "      border-color: transparent;\n",
              "      border-bottom-color: var(--fill-color);\n",
              "      border-left-color: var(--fill-color);\n",
              "    }\n",
              "    20% {\n",
              "      border-color: transparent;\n",
              "      border-left-color: var(--fill-color);\n",
              "      border-top-color: var(--fill-color);\n",
              "    }\n",
              "    30% {\n",
              "      border-color: transparent;\n",
              "      border-left-color: var(--fill-color);\n",
              "      border-top-color: var(--fill-color);\n",
              "      border-right-color: var(--fill-color);\n",
              "    }\n",
              "    40% {\n",
              "      border-color: transparent;\n",
              "      border-right-color: var(--fill-color);\n",
              "      border-top-color: var(--fill-color);\n",
              "    }\n",
              "    60% {\n",
              "      border-color: transparent;\n",
              "      border-right-color: var(--fill-color);\n",
              "    }\n",
              "    80% {\n",
              "      border-color: transparent;\n",
              "      border-right-color: var(--fill-color);\n",
              "      border-bottom-color: var(--fill-color);\n",
              "    }\n",
              "    90% {\n",
              "      border-color: transparent;\n",
              "      border-bottom-color: var(--fill-color);\n",
              "    }\n",
              "  }\n",
              "</style>\n",
              "\n",
              "  <script>\n",
              "    async function quickchart(key) {\n",
              "      const quickchartButtonEl =\n",
              "        document.querySelector('#' + key + ' button');\n",
              "      quickchartButtonEl.disabled = true;  // To prevent multiple clicks.\n",
              "      quickchartButtonEl.classList.add('colab-df-spinner');\n",
              "      try {\n",
              "        const charts = await google.colab.kernel.invokeFunction(\n",
              "            'suggestCharts', [key], {});\n",
              "      } catch (error) {\n",
              "        console.error('Error during call to suggestCharts:', error);\n",
              "      }\n",
              "      quickchartButtonEl.classList.remove('colab-df-spinner');\n",
              "      quickchartButtonEl.classList.add('colab-df-quickchart-complete');\n",
              "    }\n",
              "    (() => {\n",
              "      let quickchartButtonEl =\n",
              "        document.querySelector('#df-36b19176-8586-482f-a9cf-f9aac4d59852 button');\n",
              "      quickchartButtonEl.style.display =\n",
              "        google.colab.kernel.accessAllowed ? 'block' : 'none';\n",
              "    })();\n",
              "  </script>\n",
              "</div>\n",
              "\n",
              "    </div>\n",
              "  </div>\n"
            ],
            "text/plain": [
              "           state\n",
              "olin           6\n",
              "wellesley      6"
            ]
          },
          "execution_count": 230,
          "metadata": {},
          "output_type": "execute_result"
        }
      ],
      "source": [
        "show(bikeshare)"
      ]
    },
    {
      "cell_type": "markdown",
      "id": "eleven-brook",
      "metadata": {
        "id": "eleven-brook"
      },
      "source": [
        "When you call a function, you have to include the parentheses. If you\n",
        "leave them out, you get this:"
      ]
    },
    {
      "cell_type": "code",
      "execution_count": 231,
      "id": "identical-yacht",
      "metadata": {
        "ExecuteTime": {
          "end_time": "2025-01-21T11:02:55.007317Z",
          "start_time": "2025-01-21T11:02:55.005338Z"
        },
        "colab": {
          "base_uri": "https://localhost:8080/",
          "height": 103
        },
        "id": "identical-yacht",
        "outputId": "abd0aea4-1384-43e9-8f43-bf88d3efb1d6"
      },
      "outputs": [
        {
          "data": {
            "text/html": [
              "<div style=\"max-width:800px; border: 1px solid var(--colab-border-color);\"><style>\n",
              "      pre.function-repr-contents {\n",
              "        overflow-x: auto;\n",
              "        padding: 8px 12px;\n",
              "        max-height: 500px;\n",
              "      }\n",
              "\n",
              "      pre.function-repr-contents.function-repr-contents-collapsed {\n",
              "        cursor: pointer;\n",
              "        max-height: 100px;\n",
              "      }\n",
              "    </style>\n",
              "    <pre style=\"white-space: initial; background:\n",
              "         var(--colab-secondary-surface-color); padding: 8px 12px;\n",
              "         border-bottom: 1px solid var(--colab-border-color);\"><b>bike_to_wellesley</b><br/>def bike_to_wellesley()</pre><pre class=\"function-repr-contents function-repr-contents-collapsed\" style=\"\"><a class=\"filepath\" style=\"display:none\" href=\"#\">/content/&lt;ipython-input-228-0ba59ca0b597&gt;</a>&lt;no docstring&gt;</pre></div>"
            ],
            "text/plain": [
              "<function __main__.bike_to_wellesley()>"
            ]
          },
          "execution_count": 231,
          "metadata": {},
          "output_type": "execute_result"
        }
      ],
      "source": [
        "bike_to_wellesley"
      ]
    },
    {
      "cell_type": "markdown",
      "id": "premier-youth",
      "metadata": {
        "id": "premier-youth"
      },
      "source": [
        "This result indicates that `bike_to_wellesley` is a function. You don't have to know what `__main__` means, but if you see something like this, it probably means that you named a function but didn't actually call it.\n",
        "So don't forget the parentheses."
      ]
    },
    {
      "cell_type": "markdown",
      "id": "brazilian-medicare",
      "metadata": {
        "id": "brazilian-medicare"
      },
      "source": [
        "## Print Statements\n",
        "\n",
        "As you write more complicated programs, it is easy to lose track of what\n",
        "is going on. One of the most useful tools for debugging is the *print statement*, which displays text in the Jupyter notebook.\n",
        "\n",
        "Normally when Jupyter runs the code in a cell, it displays the value of\n",
        "the last line of code. For example, if you run:"
      ]
    },
    {
      "cell_type": "code",
      "execution_count": 232,
      "id": "heavy-patrol",
      "metadata": {
        "ExecuteTime": {
          "end_time": "2025-01-21T11:02:55.010657Z",
          "start_time": "2025-01-21T11:02:55.007769Z"
        },
        "colab": {
          "base_uri": "https://localhost:8080/"
        },
        "id": "heavy-patrol",
        "outputId": "addc6e00-46e0-4162-b31e-3e5177931efe"
      },
      "outputs": [
        {
          "data": {
            "text/plain": [
              "6"
            ]
          },
          "execution_count": 232,
          "metadata": {},
          "output_type": "execute_result"
        }
      ],
      "source": [
        "bikeshare.olin\n",
        "bikeshare.wellesley"
      ]
    },
    {
      "cell_type": "markdown",
      "id": "ancient-projection",
      "metadata": {
        "id": "ancient-projection"
      },
      "source": [
        "Jupyter runs both lines, but it only displays the value of the\n",
        "second. If you want to display more than one value, you can use\n",
        "print statements:"
      ]
    },
    {
      "cell_type": "code",
      "execution_count": 233,
      "id": "french-preference",
      "metadata": {
        "ExecuteTime": {
          "end_time": "2025-01-21T11:02:55.012620Z",
          "start_time": "2025-01-21T11:02:55.011138Z"
        },
        "colab": {
          "base_uri": "https://localhost:8080/"
        },
        "id": "french-preference",
        "outputId": "2f96e7a2-d131-4ed7-a35f-32c4d5abc038"
      },
      "outputs": [
        {
          "name": "stdout",
          "output_type": "stream",
          "text": [
            "6\n",
            "6\n"
          ]
        }
      ],
      "source": [
        "print(bikeshare.olin)\n",
        "print(bikeshare.wellesley)"
      ]
    },
    {
      "cell_type": "markdown",
      "id": "original-hollywood",
      "metadata": {
        "id": "original-hollywood"
      },
      "source": [
        "When you call the `print` function, you can put a variable in\n",
        "parentheses, as in the previous example, or you can provide a sequence\n",
        "of variables separated by commas, like this:"
      ]
    },
    {
      "cell_type": "code",
      "execution_count": 234,
      "id": "alternative-keyboard",
      "metadata": {
        "ExecuteTime": {
          "end_time": "2025-01-21T11:02:55.014594Z",
          "start_time": "2025-01-21T11:02:55.013120Z"
        },
        "colab": {
          "base_uri": "https://localhost:8080/"
        },
        "id": "alternative-keyboard",
        "outputId": "773375cb-6395-4474-b22d-e8ba5cf9a6e6"
      },
      "outputs": [
        {
          "name": "stdout",
          "output_type": "stream",
          "text": [
            "6 6\n"
          ]
        }
      ],
      "source": [
        "print(bikeshare.olin, bikeshare.wellesley)"
      ]
    },
    {
      "cell_type": "markdown",
      "id": "described-produce",
      "metadata": {
        "id": "described-produce"
      },
      "source": [
        "Python looks up the values of the variables and displays them; in this\n",
        "example, it displays two values on the same line, with a space between\n",
        "them.\n",
        "\n",
        "Print statements are useful for debugging functions. For example, we can\n",
        "add a print statement to `bike_to_wellesley`, like this:"
      ]
    },
    {
      "cell_type": "code",
      "execution_count": 235,
      "id": "robust-holly",
      "metadata": {
        "ExecuteTime": {
          "end_time": "2025-01-21T11:02:55.017455Z",
          "start_time": "2025-01-21T11:02:55.015022Z"
        },
        "id": "robust-holly"
      },
      "outputs": [],
      "source": [
        "def bike_to_wellesley():\n",
        "    print('Moving a bike to Wellesley')\n",
        "    bikeshare.olin -= 1\n",
        "    bikeshare.wellesley += 1"
      ]
    },
    {
      "cell_type": "markdown",
      "id": "vital-lender",
      "metadata": {
        "id": "vital-lender"
      },
      "source": [
        "Each time we call this version of the function, it displays a message,\n",
        "which can help us keep track of what the program is doing.\n",
        "The message in this example is a *string*, which is a sequence of\n",
        "letters and other symbols in quotes.\n",
        "\n",
        "Just like `bike_to_wellesley`, we can define a function that moves a\n",
        "bike from Wellesley to Olin:"
      ]
    },
    {
      "cell_type": "code",
      "execution_count": 236,
      "id": "fifteen-atmosphere",
      "metadata": {
        "ExecuteTime": {
          "end_time": "2025-01-21T11:02:55.019809Z",
          "start_time": "2025-01-21T11:02:55.018167Z"
        },
        "id": "fifteen-atmosphere"
      },
      "outputs": [],
      "source": [
        "def bike_to_olin():\n",
        "    print('Moving a bike to Olin')\n",
        "    bikeshare.wellesley -= 1\n",
        "    bikeshare.olin += 1"
      ]
    },
    {
      "cell_type": "markdown",
      "id": "requested-glasgow",
      "metadata": {
        "id": "requested-glasgow"
      },
      "source": [
        "And call it like this:"
      ]
    },
    {
      "cell_type": "code",
      "execution_count": 237,
      "id": "matched-narrow",
      "metadata": {
        "ExecuteTime": {
          "end_time": "2025-01-21T11:02:55.022711Z",
          "start_time": "2025-01-21T11:02:55.020551Z"
        },
        "colab": {
          "base_uri": "https://localhost:8080/"
        },
        "id": "matched-narrow",
        "outputId": "25536f6b-60bb-4051-fad4-a918a23eb0e3"
      },
      "outputs": [
        {
          "name": "stdout",
          "output_type": "stream",
          "text": [
            "Moving a bike to Olin\n"
          ]
        }
      ],
      "source": [
        "bike_to_olin()"
      ]
    },
    {
      "cell_type": "markdown",
      "id": "sitting-semiconductor",
      "metadata": {
        "id": "sitting-semiconductor"
      },
      "source": [
        "One benefit of defining functions is that you avoid repeating chunks of\n",
        "code, which makes programs smaller. Another benefit is that the name you\n",
        "give the function documents what it does, which makes programs more\n",
        "readable."
      ]
    },
    {
      "cell_type": "markdown",
      "id": "enhanced-maintenance",
      "metadata": {
        "id": "enhanced-maintenance"
      },
      "source": [
        "## If Statements\n",
        "\n",
        "At this point we have functions that simulate moving bikes; now let's think about simulating customers. As a simple model of customer behavior, I will use a random number generator to determine when customers arrive at each station.\n",
        "\n",
        "The ModSim library provides a function called `flip` that generates random \"coin tosses\".\n",
        "When you call it, you provide a probability between 0 and 1, like this:"
      ]
    },
    {
      "cell_type": "code",
      "execution_count": 238,
      "id": "29c1f41a",
      "metadata": {
        "ExecuteTime": {
          "end_time": "2025-01-21T11:02:55.025208Z",
          "start_time": "2025-01-21T11:02:55.023223Z"
        },
        "id": "29c1f41a",
        "tags": []
      },
      "outputs": [],
      "source": [
        "# this line sets the random number generator so the results in\n",
        "# the book are the same every time we run it\n",
        "np.random.seed(17)"
      ]
    },
    {
      "cell_type": "code",
      "execution_count": 239,
      "id": "illegal-metropolitan",
      "metadata": {
        "ExecuteTime": {
          "end_time": "2025-01-21T11:02:55.028009Z",
          "start_time": "2025-01-21T11:02:55.025916Z"
        },
        "colab": {
          "base_uri": "https://localhost:8080/"
        },
        "id": "illegal-metropolitan",
        "outputId": "deeec6af-5baf-4245-a4d1-5f05bc2a13ab"
      },
      "outputs": [
        {
          "data": {
            "text/plain": [
              "True"
            ]
          },
          "execution_count": 239,
          "metadata": {},
          "output_type": "execute_result"
        }
      ],
      "source": [
        "flip(0.7)"
      ]
    },
    {
      "cell_type": "markdown",
      "id": "appropriate-funds",
      "metadata": {
        "id": "appropriate-funds"
      },
      "source": [
        "The result is one of two values: `True` with probability 0.7 (in this example) or `False`\n",
        "with probability 0.3. If you run `flip` like this 100 times, you should\n",
        "get `True` about 70 times and `False` about 30 times. But the results\n",
        "are random, so they might differ from these expectations.\n",
        "\n",
        "`True` and `False` are special values defined by Python.\n",
        "They are called *boolean* values because they are\n",
        "related to Boolean algebra (<https://modsimpy.com/boolean>).\n",
        "\n",
        "Note that they are not strings. There is a difference between `True`, which is a boolean value, and `'True'`, which is a string.\n",
        "\n",
        "We can use boolean values to control the behavior of the program, using an *if statement*:"
      ]
    },
    {
      "cell_type": "code",
      "execution_count": 240,
      "id": "excessive-murder",
      "metadata": {
        "ExecuteTime": {
          "end_time": "2025-01-21T11:02:55.030140Z",
          "start_time": "2025-01-21T11:02:55.028500Z"
        },
        "id": "excessive-murder"
      },
      "outputs": [],
      "source": [
        "if flip(0.5):\n",
        "    print('heads')"
      ]
    },
    {
      "cell_type": "markdown",
      "id": "seventh-profile",
      "metadata": {
        "id": "seventh-profile"
      },
      "source": [
        "If the result from `flip` is `True`, the program displays the string\n",
        "`'heads'`. Otherwise it does nothing.\n",
        "\n",
        "The syntax for `if` statements is similar to the syntax for\n",
        "function definitions: the first line has to end with a colon, and the\n",
        "lines inside the `if` statement have to be indented.\n",
        "\n",
        "Optionally, you can add an *else clause* to indicate what should\n",
        "happen if the result is `False`:"
      ]
    },
    {
      "cell_type": "code",
      "execution_count": 241,
      "id": "fundamental-nursing",
      "metadata": {
        "ExecuteTime": {
          "end_time": "2025-01-21T11:02:55.032217Z",
          "start_time": "2025-01-21T11:02:55.030602Z"
        },
        "colab": {
          "base_uri": "https://localhost:8080/"
        },
        "id": "fundamental-nursing",
        "outputId": "2220b4bb-95b1-45ac-f0d1-faedb643028f"
      },
      "outputs": [
        {
          "name": "stdout",
          "output_type": "stream",
          "text": [
            "heads\n"
          ]
        }
      ],
      "source": [
        "if flip(0.5):\n",
        "    print('heads')\n",
        "else:\n",
        "    print('tails')"
      ]
    },
    {
      "cell_type": "markdown",
      "id": "recovered-chemical",
      "metadata": {
        "id": "recovered-chemical"
      },
      "source": [
        "If you run the previous cell a few times, it should print `heads` about half the time, and `tails` about half the time.\n",
        "\n",
        "Now we can use `flip` to simulate the arrival of customers who want to\n",
        "borrow a bike. Suppose students arrive at the Olin station every two\n",
        "minutes on average.\n",
        "In that case, the chance of an arrival during any one-minute period is 50%, and we can simulate it like this:"
      ]
    },
    {
      "cell_type": "code",
      "execution_count": 242,
      "id": "twenty-health",
      "metadata": {
        "ExecuteTime": {
          "end_time": "2025-01-21T11:02:55.034690Z",
          "start_time": "2025-01-21T11:02:55.032766Z"
        },
        "colab": {
          "base_uri": "https://localhost:8080/"
        },
        "id": "twenty-health",
        "outputId": "b8842975-4bff-42eb-d049-5408b71d10c7"
      },
      "outputs": [
        {
          "name": "stdout",
          "output_type": "stream",
          "text": [
            "Moving a bike to Wellesley\n"
          ]
        }
      ],
      "source": [
        "if flip(0.5):\n",
        "    bike_to_wellesley()"
      ]
    },
    {
      "cell_type": "markdown",
      "id": "difficult-construction",
      "metadata": {
        "id": "difficult-construction"
      },
      "source": [
        "If students arrive at the Wellesley station every three minutes, on average,\n",
        "the chance of an arrival during any one-minute period is 33%, and we can\n",
        "simulate it like this:"
      ]
    },
    {
      "cell_type": "code",
      "execution_count": 243,
      "id": "played-character",
      "metadata": {
        "ExecuteTime": {
          "end_time": "2025-01-21T11:02:55.037428Z",
          "start_time": "2025-01-21T11:02:55.035473Z"
        },
        "id": "played-character"
      },
      "outputs": [],
      "source": [
        "if flip(0.33):\n",
        "    bike_to_olin()"
      ]
    },
    {
      "cell_type": "markdown",
      "id": "standard-party",
      "metadata": {
        "id": "standard-party"
      },
      "source": [
        "We can combine these snippets into a function that simulates a *time step*, which is an interval of time, in this case one minute:"
      ]
    },
    {
      "cell_type": "code",
      "execution_count": 244,
      "id": "ecological-colon",
      "metadata": {
        "ExecuteTime": {
          "end_time": "2025-01-21T11:02:55.043816Z",
          "start_time": "2025-01-21T11:02:55.041062Z"
        },
        "id": "ecological-colon"
      },
      "outputs": [],
      "source": [
        "def step():\n",
        "    if flip(0.5):\n",
        "        bike_to_wellesley()\n",
        "\n",
        "    if flip(0.33):\n",
        "        bike_to_olin()"
      ]
    },
    {
      "cell_type": "markdown",
      "id": "amateur-exposure",
      "metadata": {
        "id": "amateur-exposure"
      },
      "source": [
        "Then we can simulate a time step like this:"
      ]
    },
    {
      "cell_type": "code",
      "execution_count": 245,
      "id": "mediterranean-german",
      "metadata": {
        "ExecuteTime": {
          "end_time": "2025-01-21T11:02:55.062359Z",
          "start_time": "2025-01-21T11:02:55.049239Z"
        },
        "id": "mediterranean-german"
      },
      "outputs": [],
      "source": [
        "step()"
      ]
    },
    {
      "cell_type": "markdown",
      "id": "sought-mobile",
      "metadata": {
        "id": "sought-mobile"
      },
      "source": [
        "Depending on the results from `flip`, this function might move a bike to Olin, or to Wellesley, or neither, or both."
      ]
    },
    {
      "cell_type": "markdown",
      "id": "organic-proportion",
      "metadata": {
        "id": "organic-proportion"
      },
      "source": [
        "## Parameters\n",
        "\n",
        "The previous version of `step` is fine if the arrival probabilities\n",
        "never change, but in reality they vary over time.\n",
        "\n",
        "So instead of putting the constant values 0.5 and 0.33 in `step`, we can replace them with *parameters*.\n",
        "Parameters are variables whose values are set when a function is called.\n",
        "\n",
        "Here's a version of `step` that takes two parameters, `p1` and `p2`:"
      ]
    },
    {
      "cell_type": "code",
      "execution_count": 246,
      "id": "hollywood-shopping",
      "metadata": {
        "ExecuteTime": {
          "end_time": "2025-01-21T11:02:55.067786Z",
          "start_time": "2025-01-21T11:02:55.065241Z"
        },
        "id": "hollywood-shopping"
      },
      "outputs": [],
      "source": [
        "def step(p1, p2):\n",
        "    if flip(p1):\n",
        "        bike_to_wellesley()\n",
        "\n",
        "    if flip(p2):\n",
        "        bike_to_olin()"
      ]
    },
    {
      "cell_type": "markdown",
      "id": "encouraging-arkansas",
      "metadata": {
        "id": "encouraging-arkansas"
      },
      "source": [
        "The values of `p1` and `p2` are not set inside this function; instead,\n",
        "they are provided when the function is called, like this:"
      ]
    },
    {
      "cell_type": "code",
      "execution_count": 247,
      "id": "buried-alert",
      "metadata": {
        "ExecuteTime": {
          "end_time": "2025-01-21T11:02:55.071035Z",
          "start_time": "2025-01-21T11:02:55.068556Z"
        },
        "colab": {
          "base_uri": "https://localhost:8080/"
        },
        "id": "buried-alert",
        "outputId": "b0c3c11a-c430-483c-f6d9-0974b59f9398"
      },
      "outputs": [
        {
          "name": "stdout",
          "output_type": "stream",
          "text": [
            "Moving a bike to Olin\n"
          ]
        }
      ],
      "source": [
        "step(0.5, 0.33)"
      ]
    },
    {
      "cell_type": "markdown",
      "id": "aggregate-dynamics",
      "metadata": {
        "id": "aggregate-dynamics"
      },
      "source": [
        "The values you provide when you call the function are called\n",
        "*arguments*. The arguments, `0.5` and `0.33` in this example, get\n",
        "assigned to the parameters, `p1` and `p2`, in order. So running this\n",
        "function has the same effect as:"
      ]
    },
    {
      "cell_type": "code",
      "execution_count": 248,
      "id": "recognized-denmark",
      "metadata": {
        "ExecuteTime": {
          "end_time": "2025-01-21T11:02:55.075071Z",
          "start_time": "2025-01-21T11:02:55.071789Z"
        },
        "colab": {
          "base_uri": "https://localhost:8080/"
        },
        "id": "recognized-denmark",
        "outputId": "e0e86a5d-e21b-4e36-fac4-bcacefdd029e"
      },
      "outputs": [
        {
          "name": "stdout",
          "output_type": "stream",
          "text": [
            "Moving a bike to Wellesley\n"
          ]
        }
      ],
      "source": [
        "p1 = 0.5\n",
        "p2 = 0.33\n",
        "\n",
        "if flip(p1):\n",
        "    bike_to_wellesley()\n",
        "\n",
        "if flip(p2):\n",
        "    bike_to_olin()"
      ]
    },
    {
      "cell_type": "markdown",
      "id": "raised-museum",
      "metadata": {
        "id": "raised-museum"
      },
      "source": [
        "The advantage of using parameters is that you can call the same function many times, providing different arguments each time.\n",
        "\n",
        "Adding parameters to a function is called *generalization*, because it makes the function more general; without parameters, the function always does the same thing; with parameters, it can do a range of things."
      ]
    },
    {
      "cell_type": "markdown",
      "id": "scenic-african",
      "metadata": {
        "id": "scenic-african"
      },
      "source": [
        "## For Loops\n",
        "\n",
        "At some point you will get sick of running cells over and over.\n",
        "Fortunately, there is an easy way to repeat a chunk of code, the *for loop*. Here's an example:"
      ]
    },
    {
      "cell_type": "code",
      "execution_count": 249,
      "id": "polish-river",
      "metadata": {
        "ExecuteTime": {
          "end_time": "2025-01-21T11:02:55.078986Z",
          "start_time": "2025-01-21T11:02:55.076336Z"
        },
        "colab": {
          "base_uri": "https://localhost:8080/"
        },
        "id": "polish-river",
        "outputId": "ad89aa61-8c86-4114-d62e-140e5112c74c"
      },
      "outputs": [
        {
          "name": "stdout",
          "output_type": "stream",
          "text": [
            "0\n",
            "Moving a bike to Wellesley\n",
            "1\n",
            "Moving a bike to Wellesley\n",
            "2\n",
            "Moving a bike to Wellesley\n"
          ]
        }
      ],
      "source": [
        "for i in range(3):\n",
        "    print(i)\n",
        "    bike_to_wellesley()"
      ]
    },
    {
      "cell_type": "markdown",
      "id": "compatible-conspiracy",
      "metadata": {
        "id": "compatible-conspiracy"
      },
      "source": [
        "The syntax here should look familiar; the first line ends with a\n",
        "colon, and the lines inside the `for` loop are indented. The other\n",
        "elements of the loop are:\n",
        "\n",
        "-   The words `for` and `in` are special words we have to use in a for\n",
        "    loop.\n",
        "\n",
        "-   `range` is a Python function we use to control the number of times the loop runs.\n",
        "\n",
        "-   `i` is a *loop variable* that gets created when the for loop runs.\n",
        "\n",
        "When this loop runs, it runs the statements inside the loop three times.  The first time, the value of `i` is `0`; the second time, it is `1`; the third time, it is `2`.\n",
        "\n",
        "Each time through the loop, it prints the value of `i` and moves one bike to Wellesley."
      ]
    },
    {
      "cell_type": "markdown",
      "id": "breeding-groove",
      "metadata": {
        "id": "breeding-groove"
      },
      "source": [
        "## TimeSeries\n",
        "\n",
        "When we run a simulation, we often want to save the results for later analysis. The ModSim library provides a `TimeSeries` object for this purpose. A `TimeSeries` contains a sequence of timestamps and a\n",
        "corresponding sequence of quantities.\n",
        "\n",
        "In this example, the timestamps are integers representing minutes and the quantities are the number of bikes at one location.\n",
        "\n",
        "Since we have moved a number of bikes around, let's start again with a new `State` object."
      ]
    },
    {
      "cell_type": "code",
      "execution_count": 250,
      "id": "every-consultation",
      "metadata": {
        "ExecuteTime": {
          "end_time": "2025-01-21T11:02:55.083300Z",
          "start_time": "2025-01-21T11:02:55.079926Z"
        },
        "id": "every-consultation"
      },
      "outputs": [],
      "source": [
        "bikeshare = State(olin=10, wellesley=2)"
      ]
    },
    {
      "cell_type": "markdown",
      "id": "cross-sharp",
      "metadata": {
        "id": "cross-sharp"
      },
      "source": [
        "We can create a new, empty `TimeSeries` like this:"
      ]
    },
    {
      "cell_type": "code",
      "execution_count": 251,
      "id": "changing-planet",
      "metadata": {
        "ExecuteTime": {
          "end_time": "2025-01-21T11:02:55.087437Z",
          "start_time": "2025-01-21T11:02:55.083906Z"
        },
        "id": "changing-planet"
      },
      "outputs": [],
      "source": [
        "results = TimeSeries()"
      ]
    },
    {
      "cell_type": "markdown",
      "id": "attractive-revision",
      "metadata": {
        "id": "attractive-revision"
      },
      "source": [
        "And we can add a quantity like this:"
      ]
    },
    {
      "cell_type": "code",
      "execution_count": 252,
      "id": "aquatic-richardson",
      "metadata": {
        "ExecuteTime": {
          "end_time": "2025-01-21T11:02:55.092068Z",
          "start_time": "2025-01-21T11:02:55.088028Z"
        },
        "id": "aquatic-richardson"
      },
      "outputs": [],
      "source": [
        "results[0] = bikeshare.olin"
      ]
    },
    {
      "cell_type": "markdown",
      "id": "searching-funeral",
      "metadata": {
        "id": "searching-funeral"
      },
      "source": [
        "The number in brackets is the timestamp, also called a *label*.\n",
        "\n",
        "We can use a `TimeSeries` inside a for loop to store the results of the simulation:"
      ]
    },
    {
      "cell_type": "code",
      "execution_count": 253,
      "id": "english-titanium",
      "metadata": {
        "ExecuteTime": {
          "end_time": "2025-01-21T11:02:55.099722Z",
          "start_time": "2025-01-21T11:02:55.092656Z"
        },
        "colab": {
          "base_uri": "https://localhost:8080/"
        },
        "id": "english-titanium",
        "outputId": "23f77652-abe9-4672-e84b-c1a6cd5fabed"
      },
      "outputs": [
        {
          "name": "stdout",
          "output_type": "stream",
          "text": [
            "0\n",
            "Moving a bike to Wellesley\n",
            "1\n",
            "Moving a bike to Olin\n",
            "2\n",
            "Moving a bike to Olin\n"
          ]
        }
      ],
      "source": [
        "for i in range(3):\n",
        "    print(i)\n",
        "    step(0.6, 0.6)\n",
        "    results[i+1] = bikeshare.olin"
      ]
    },
    {
      "cell_type": "markdown",
      "id": "prospective-joining",
      "metadata": {
        "id": "prospective-joining"
      },
      "source": [
        "Each time through the loop, we print the value of `i` and call `step`, which updates `bikeshare`.\n",
        "Then we store the number of bikes at Olin in `results`.\n",
        "We use the loop variable, `i`, to compute the timestamp, `i+1`.\n",
        "\n",
        "The first time through the loop, the value of `i` is `0`, so the timestamp is `1`.\n",
        "The last time, the value of `i` is `2`, so the timestamp is `3`.\n",
        "\n",
        "When the loop exits, `results` contains 4 timestamps, from 0 through\n",
        "3, and the number of bikes at Olin at the end of each time step.\n",
        "\n",
        "We can display the `TimeSeries` like this:"
      ]
    },
    {
      "cell_type": "code",
      "execution_count": 254,
      "id": "indonesian-singing",
      "metadata": {
        "ExecuteTime": {
          "end_time": "2025-01-21T11:02:55.103738Z",
          "start_time": "2025-01-21T11:02:55.100347Z"
        },
        "colab": {
          "base_uri": "https://localhost:8080/",
          "height": 206
        },
        "id": "indonesian-singing",
        "outputId": "7a73aab7-7472-495d-85cc-1ec540686d63"
      },
      "outputs": [
        {
          "data": {
            "application/vnd.google.colaboratory.intrinsic+json": {
              "summary": "{\n  \"name\": \"show(results)\",\n  \"rows\": 4,\n  \"fields\": [\n    {\n      \"column\": \"Time\",\n      \"properties\": {\n        \"dtype\": \"number\",\n        \"std\": 1,\n        \"min\": 0,\n        \"max\": 3,\n        \"num_unique_values\": 4,\n        \"samples\": [\n          1,\n          3,\n          0\n        ],\n        \"semantic_type\": \"\",\n        \"description\": \"\"\n      }\n    },\n    {\n      \"column\": \"Quantity\",\n      \"properties\": {\n        \"dtype\": \"number\",\n        \"std\": 0,\n        \"min\": 9,\n        \"max\": 11,\n        \"num_unique_values\": 3,\n        \"samples\": [\n          10,\n          9,\n          11\n        ],\n        \"semantic_type\": \"\",\n        \"description\": \"\"\n      }\n    }\n  ]\n}",
              "type": "dataframe"
            },
            "text/html": [
              "\n",
              "  <div id=\"df-ed096b21-583a-46de-bf4d-7c15dbd44c8e\" class=\"colab-df-container\">\n",
              "    <div>\n",
              "<style scoped>\n",
              "    .dataframe tbody tr th:only-of-type {\n",
              "        vertical-align: middle;\n",
              "    }\n",
              "\n",
              "    .dataframe tbody tr th {\n",
              "        vertical-align: top;\n",
              "    }\n",
              "\n",
              "    .dataframe thead th {\n",
              "        text-align: right;\n",
              "    }\n",
              "</style>\n",
              "<table border=\"1\" class=\"dataframe\">\n",
              "  <thead>\n",
              "    <tr style=\"text-align: right;\">\n",
              "      <th></th>\n",
              "      <th>Quantity</th>\n",
              "    </tr>\n",
              "    <tr>\n",
              "      <th>Time</th>\n",
              "      <th></th>\n",
              "    </tr>\n",
              "  </thead>\n",
              "  <tbody>\n",
              "    <tr>\n",
              "      <th>0</th>\n",
              "      <td>10</td>\n",
              "    </tr>\n",
              "    <tr>\n",
              "      <th>1</th>\n",
              "      <td>9</td>\n",
              "    </tr>\n",
              "    <tr>\n",
              "      <th>2</th>\n",
              "      <td>10</td>\n",
              "    </tr>\n",
              "    <tr>\n",
              "      <th>3</th>\n",
              "      <td>11</td>\n",
              "    </tr>\n",
              "  </tbody>\n",
              "</table>\n",
              "</div>\n",
              "    <div class=\"colab-df-buttons\">\n",
              "\n",
              "  <div class=\"colab-df-container\">\n",
              "    <button class=\"colab-df-convert\" onclick=\"convertToInteractive('df-ed096b21-583a-46de-bf4d-7c15dbd44c8e')\"\n",
              "            title=\"Convert this dataframe to an interactive table.\"\n",
              "            style=\"display:none;\">\n",
              "\n",
              "  <svg xmlns=\"http://www.w3.org/2000/svg\" height=\"24px\" viewBox=\"0 -960 960 960\">\n",
              "    <path d=\"M120-120v-720h720v720H120Zm60-500h600v-160H180v160Zm220 220h160v-160H400v160Zm0 220h160v-160H400v160ZM180-400h160v-160H180v160Zm440 0h160v-160H620v160ZM180-180h160v-160H180v160Zm440 0h160v-160H620v160Z\"/>\n",
              "  </svg>\n",
              "    </button>\n",
              "\n",
              "  <style>\n",
              "    .colab-df-container {\n",
              "      display:flex;\n",
              "      gap: 12px;\n",
              "    }\n",
              "\n",
              "    .colab-df-convert {\n",
              "      background-color: #E8F0FE;\n",
              "      border: none;\n",
              "      border-radius: 50%;\n",
              "      cursor: pointer;\n",
              "      display: none;\n",
              "      fill: #1967D2;\n",
              "      height: 32px;\n",
              "      padding: 0 0 0 0;\n",
              "      width: 32px;\n",
              "    }\n",
              "\n",
              "    .colab-df-convert:hover {\n",
              "      background-color: #E2EBFA;\n",
              "      box-shadow: 0px 1px 2px rgba(60, 64, 67, 0.3), 0px 1px 3px 1px rgba(60, 64, 67, 0.15);\n",
              "      fill: #174EA6;\n",
              "    }\n",
              "\n",
              "    .colab-df-buttons div {\n",
              "      margin-bottom: 4px;\n",
              "    }\n",
              "\n",
              "    [theme=dark] .colab-df-convert {\n",
              "      background-color: #3B4455;\n",
              "      fill: #D2E3FC;\n",
              "    }\n",
              "\n",
              "    [theme=dark] .colab-df-convert:hover {\n",
              "      background-color: #434B5C;\n",
              "      box-shadow: 0px 1px 3px 1px rgba(0, 0, 0, 0.15);\n",
              "      filter: drop-shadow(0px 1px 2px rgba(0, 0, 0, 0.3));\n",
              "      fill: #FFFFFF;\n",
              "    }\n",
              "  </style>\n",
              "\n",
              "    <script>\n",
              "      const buttonEl =\n",
              "        document.querySelector('#df-ed096b21-583a-46de-bf4d-7c15dbd44c8e button.colab-df-convert');\n",
              "      buttonEl.style.display =\n",
              "        google.colab.kernel.accessAllowed ? 'block' : 'none';\n",
              "\n",
              "      async function convertToInteractive(key) {\n",
              "        const element = document.querySelector('#df-ed096b21-583a-46de-bf4d-7c15dbd44c8e');\n",
              "        const dataTable =\n",
              "          await google.colab.kernel.invokeFunction('convertToInteractive',\n",
              "                                                    [key], {});\n",
              "        if (!dataTable) return;\n",
              "\n",
              "        const docLinkHtml = 'Like what you see? Visit the ' +\n",
              "          '<a target=\"_blank\" href=https://colab.research.google.com/notebooks/data_table.ipynb>data table notebook</a>'\n",
              "          + ' to learn more about interactive tables.';\n",
              "        element.innerHTML = '';\n",
              "        dataTable['output_type'] = 'display_data';\n",
              "        await google.colab.output.renderOutput(dataTable, element);\n",
              "        const docLink = document.createElement('div');\n",
              "        docLink.innerHTML = docLinkHtml;\n",
              "        element.appendChild(docLink);\n",
              "      }\n",
              "    </script>\n",
              "  </div>\n",
              "\n",
              "\n",
              "<div id=\"df-bd2d2e54-9bda-4c9f-819a-27d94b94b67e\">\n",
              "  <button class=\"colab-df-quickchart\" onclick=\"quickchart('df-bd2d2e54-9bda-4c9f-819a-27d94b94b67e')\"\n",
              "            title=\"Suggest charts\"\n",
              "            style=\"display:none;\">\n",
              "\n",
              "<svg xmlns=\"http://www.w3.org/2000/svg\" height=\"24px\"viewBox=\"0 0 24 24\"\n",
              "     width=\"24px\">\n",
              "    <g>\n",
              "        <path d=\"M19 3H5c-1.1 0-2 .9-2 2v14c0 1.1.9 2 2 2h14c1.1 0 2-.9 2-2V5c0-1.1-.9-2-2-2zM9 17H7v-7h2v7zm4 0h-2V7h2v10zm4 0h-2v-4h2v4z\"/>\n",
              "    </g>\n",
              "</svg>\n",
              "  </button>\n",
              "\n",
              "<style>\n",
              "  .colab-df-quickchart {\n",
              "      --bg-color: #E8F0FE;\n",
              "      --fill-color: #1967D2;\n",
              "      --hover-bg-color: #E2EBFA;\n",
              "      --hover-fill-color: #174EA6;\n",
              "      --disabled-fill-color: #AAA;\n",
              "      --disabled-bg-color: #DDD;\n",
              "  }\n",
              "\n",
              "  [theme=dark] .colab-df-quickchart {\n",
              "      --bg-color: #3B4455;\n",
              "      --fill-color: #D2E3FC;\n",
              "      --hover-bg-color: #434B5C;\n",
              "      --hover-fill-color: #FFFFFF;\n",
              "      --disabled-bg-color: #3B4455;\n",
              "      --disabled-fill-color: #666;\n",
              "  }\n",
              "\n",
              "  .colab-df-quickchart {\n",
              "    background-color: var(--bg-color);\n",
              "    border: none;\n",
              "    border-radius: 50%;\n",
              "    cursor: pointer;\n",
              "    display: none;\n",
              "    fill: var(--fill-color);\n",
              "    height: 32px;\n",
              "    padding: 0;\n",
              "    width: 32px;\n",
              "  }\n",
              "\n",
              "  .colab-df-quickchart:hover {\n",
              "    background-color: var(--hover-bg-color);\n",
              "    box-shadow: 0 1px 2px rgba(60, 64, 67, 0.3), 0 1px 3px 1px rgba(60, 64, 67, 0.15);\n",
              "    fill: var(--button-hover-fill-color);\n",
              "  }\n",
              "\n",
              "  .colab-df-quickchart-complete:disabled,\n",
              "  .colab-df-quickchart-complete:disabled:hover {\n",
              "    background-color: var(--disabled-bg-color);\n",
              "    fill: var(--disabled-fill-color);\n",
              "    box-shadow: none;\n",
              "  }\n",
              "\n",
              "  .colab-df-spinner {\n",
              "    border: 2px solid var(--fill-color);\n",
              "    border-color: transparent;\n",
              "    border-bottom-color: var(--fill-color);\n",
              "    animation:\n",
              "      spin 1s steps(1) infinite;\n",
              "  }\n",
              "\n",
              "  @keyframes spin {\n",
              "    0% {\n",
              "      border-color: transparent;\n",
              "      border-bottom-color: var(--fill-color);\n",
              "      border-left-color: var(--fill-color);\n",
              "    }\n",
              "    20% {\n",
              "      border-color: transparent;\n",
              "      border-left-color: var(--fill-color);\n",
              "      border-top-color: var(--fill-color);\n",
              "    }\n",
              "    30% {\n",
              "      border-color: transparent;\n",
              "      border-left-color: var(--fill-color);\n",
              "      border-top-color: var(--fill-color);\n",
              "      border-right-color: var(--fill-color);\n",
              "    }\n",
              "    40% {\n",
              "      border-color: transparent;\n",
              "      border-right-color: var(--fill-color);\n",
              "      border-top-color: var(--fill-color);\n",
              "    }\n",
              "    60% {\n",
              "      border-color: transparent;\n",
              "      border-right-color: var(--fill-color);\n",
              "    }\n",
              "    80% {\n",
              "      border-color: transparent;\n",
              "      border-right-color: var(--fill-color);\n",
              "      border-bottom-color: var(--fill-color);\n",
              "    }\n",
              "    90% {\n",
              "      border-color: transparent;\n",
              "      border-bottom-color: var(--fill-color);\n",
              "    }\n",
              "  }\n",
              "</style>\n",
              "\n",
              "  <script>\n",
              "    async function quickchart(key) {\n",
              "      const quickchartButtonEl =\n",
              "        document.querySelector('#' + key + ' button');\n",
              "      quickchartButtonEl.disabled = true;  // To prevent multiple clicks.\n",
              "      quickchartButtonEl.classList.add('colab-df-spinner');\n",
              "      try {\n",
              "        const charts = await google.colab.kernel.invokeFunction(\n",
              "            'suggestCharts', [key], {});\n",
              "      } catch (error) {\n",
              "        console.error('Error during call to suggestCharts:', error);\n",
              "      }\n",
              "      quickchartButtonEl.classList.remove('colab-df-spinner');\n",
              "      quickchartButtonEl.classList.add('colab-df-quickchart-complete');\n",
              "    }\n",
              "    (() => {\n",
              "      let quickchartButtonEl =\n",
              "        document.querySelector('#df-bd2d2e54-9bda-4c9f-819a-27d94b94b67e button');\n",
              "      quickchartButtonEl.style.display =\n",
              "        google.colab.kernel.accessAllowed ? 'block' : 'none';\n",
              "    })();\n",
              "  </script>\n",
              "</div>\n",
              "\n",
              "    </div>\n",
              "  </div>\n"
            ],
            "text/plain": [
              "      Quantity\n",
              "Time          \n",
              "0           10\n",
              "1            9\n",
              "2           10\n",
              "3           11"
            ]
          },
          "execution_count": 254,
          "metadata": {},
          "output_type": "execute_result"
        }
      ],
      "source": [
        "show(results)"
      ]
    },
    {
      "cell_type": "markdown",
      "id": "small-encoding",
      "metadata": {
        "id": "small-encoding"
      },
      "source": [
        "The left column is the timestamps; the right column is the quantities."
      ]
    },
    {
      "cell_type": "markdown",
      "id": "following-contrary",
      "metadata": {
        "id": "following-contrary"
      },
      "source": [
        "## Plotting\n",
        "\n",
        "`results` provides a function called `plot` we can use to plot\n",
        "the results, and the ModSim library provides `decorate`, which we can use to label the axes and give the figure a title:"
      ]
    },
    {
      "cell_type": "code",
      "execution_count": 255,
      "id": "saved-hands",
      "metadata": {
        "ExecuteTime": {
          "end_time": "2025-01-21T11:02:55.273609Z",
          "start_time": "2025-01-21T11:02:55.104388Z"
        },
        "colab": {
          "base_uri": "https://localhost:8080/",
          "height": 309
        },
        "id": "saved-hands",
        "outputId": "67270c77-9d83-42d5-9999-cb1e3b21e134"
      },
      "outputs": [
        {
          "data": {
            "image/png": "[encoded data removed]",
            "text/plain": [
              "<Figure size 450x300 with 1 Axes>"
            ]
          },
          "metadata": {},
          "output_type": "display_data"
        }
      ],
      "source": [
        "results.plot()\n",
        "\n",
        "decorate(title='Olin-Wellesley bikeshare',\n",
        "         xlabel='Time step (min)',\n",
        "         ylabel='Number of bikes')"
      ]
    },
    {
      "cell_type": "markdown",
      "id": "egyptian-korea",
      "metadata": {
        "id": "egyptian-korea"
      },
      "source": [
        "The result should be a plot with time on the $x$-axis and the number of bikes on the $y$-axis.\n",
        "Since we only ran three time steps, it might not be very interesting."
      ]
    },
    {
      "cell_type": "markdown",
      "id": "limited-interstate",
      "metadata": {
        "id": "limited-interstate"
      },
      "source": [
        "## Summary\n",
        "\n",
        "This chapter introduces the tools we need to run simulations, record the results, and plot them.\n",
        "\n",
        "We used a `State` object to represent the state of the system.\n",
        "Then we used the `flip` function and an `if` statement to simulate a single time step.\n",
        "We used a `for` loop to simulate a series of steps, and a `TimeSeries` to record the results.\n",
        "Finally, we used `plot` and `decorate` to plot the results.\n",
        "\n",
        "In the next chapter, we will extend this simulation to make it a little more realistic."
      ]
    },
    {
      "cell_type": "markdown",
      "id": "fallen-surprise",
      "metadata": {
        "id": "fallen-surprise"
      },
      "source": [
        "## Exercises (Chapter 2)\n",
        "\n",
        "Before you go on, you might want to work on the following exercises."
      ]
    },
    {
      "cell_type": "markdown",
      "id": "capital-internship",
      "metadata": {
        "id": "capital-internship"
      },
      "source": [
        "### Exercise 1 (5 pts)\n",
        "\n",
        "What happens if you spell the name of a state variable wrong?  Edit the following cell, change the spelling of `wellesley`, and run it.\n",
        "\n",
        "The error message uses the word *attribute*, which is another name for what we are calling a state variable."
      ]
    },
    {
      "cell_type": "code",
      "execution_count": 256,
      "id": "helpful-zambia",
      "metadata": {
        "ExecuteTime": {
          "end_time": "2025-01-21T11:02:55.284679Z",
          "start_time": "2025-01-21T11:02:55.275813Z"
        },
        "id": "helpful-zambia"
      },
      "outputs": [],
      "source": [
        "# bikeshare = State(olin=10, wellesley=2)\n",
        "\n",
        "# bikeshare.wellsley"
      ]
    },
    {
      "cell_type": "code",
      "execution_count": 257,
      "id": "bac0fa43e5e6900d",
      "metadata": {
        "ExecuteTime": {
          "end_time": "2025-01-21T11:02:55.290400Z",
          "start_time": "2025-01-21T11:02:55.286759Z"
        },
        "id": "bac0fa43e5e6900d"
      },
      "outputs": [],
      "source": [
        "# Answer goes here\n",
        "#Attrivute error is displayed stating \"AttributeError: 'Series' object has no attribute 'wellsley'"
      ]
    },
    {
      "cell_type": "markdown",
      "id": "dirty-multiple",
      "metadata": {
        "id": "dirty-multiple"
      },
      "source": [
        "### Exercise 2 (5 pts)\n",
        "\n",
        "Make a `State` object with a third state variable, called `downtown`, with initial value 0, and display the state of the system."
      ]
    },
    {
      "cell_type": "code",
      "execution_count": 258,
      "id": "beneficial-mainland",
      "metadata": {
        "colab": {
          "base_uri": "https://localhost:8080/",
          "height": 143
        },
        "id": "beneficial-mainland",
        "outputId": "c9621b00-5614-4c89-91ae-e364562c85c3"
      },
      "outputs": [
        {
          "data": {
            "application/vnd.google.colaboratory.intrinsic+json": {
              "summary": "{\n  \"name\": \"show(third_state)\",\n  \"rows\": 3,\n  \"fields\": [\n    {\n      \"column\": \"state\",\n      \"properties\": {\n        \"dtype\": \"number\",\n        \"std\": 5,\n        \"min\": 0,\n        \"max\": 10,\n        \"num_unique_values\": 3,\n        \"samples\": [\n          10,\n          2,\n          0\n        ],\n        \"semantic_type\": \"\",\n        \"description\": \"\"\n      }\n    }\n  ]\n}",
              "type": "dataframe"
            },
            "text/html": [
              "\n",
              "  <div id=\"df-656612a0-19a5-4291-9a87-7773e33cc1b2\" class=\"colab-df-container\">\n",
              "    <div>\n",
              "<style scoped>\n",
              "    .dataframe tbody tr th:only-of-type {\n",
              "        vertical-align: middle;\n",
              "    }\n",
              "\n",
              "    .dataframe tbody tr th {\n",
              "        vertical-align: top;\n",
              "    }\n",
              "\n",
              "    .dataframe thead th {\n",
              "        text-align: right;\n",
              "    }\n",
              "</style>\n",
              "<table border=\"1\" class=\"dataframe\">\n",
              "  <thead>\n",
              "    <tr style=\"text-align: right;\">\n",
              "      <th></th>\n",
              "      <th>state</th>\n",
              "    </tr>\n",
              "  </thead>\n",
              "  <tbody>\n",
              "    <tr>\n",
              "      <th>olin</th>\n",
              "      <td>10</td>\n",
              "    </tr>\n",
              "    <tr>\n",
              "      <th>wellesley</th>\n",
              "      <td>2</td>\n",
              "    </tr>\n",
              "    <tr>\n",
              "      <th>downtown</th>\n",
              "      <td>0</td>\n",
              "    </tr>\n",
              "  </tbody>\n",
              "</table>\n",
              "</div>\n",
              "    <div class=\"colab-df-buttons\">\n",
              "\n",
              "  <div class=\"colab-df-container\">\n",
              "    <button class=\"colab-df-convert\" onclick=\"convertToInteractive('df-656612a0-19a5-4291-9a87-7773e33cc1b2')\"\n",
              "            title=\"Convert this dataframe to an interactive table.\"\n",
              "            style=\"display:none;\">\n",
              "\n",
              "  <svg xmlns=\"http://www.w3.org/2000/svg\" height=\"24px\" viewBox=\"0 -960 960 960\">\n",
              "    <path d=\"M120-120v-720h720v720H120Zm60-500h600v-160H180v160Zm220 220h160v-160H400v160Zm0 220h160v-160H400v160ZM180-400h160v-160H180v160Zm440 0h160v-160H620v160ZM180-180h160v-160H180v160Zm440 0h160v-160H620v160Z\"/>\n",
              "  </svg>\n",
              "    </button>\n",
              "\n",
              "  <style>\n",
              "    .colab-df-container {\n",
              "      display:flex;\n",
              "      gap: 12px;\n",
              "    }\n",
              "\n",
              "    .colab-df-convert {\n",
              "      background-color: #E8F0FE;\n",
              "      border: none;\n",
              "      border-radius: 50%;\n",
              "      cursor: pointer;\n",
              "      display: none;\n",
              "      fill: #1967D2;\n",
              "      height: 32px;\n",
              "      padding: 0 0 0 0;\n",
              "      width: 32px;\n",
              "    }\n",
              "\n",
              "    .colab-df-convert:hover {\n",
              "      background-color: #E2EBFA;\n",
              "      box-shadow: 0px 1px 2px rgba(60, 64, 67, 0.3), 0px 1px 3px 1px rgba(60, 64, 67, 0.15);\n",
              "      fill: #174EA6;\n",
              "    }\n",
              "\n",
              "    .colab-df-buttons div {\n",
              "      margin-bottom: 4px;\n",
              "    }\n",
              "\n",
              "    [theme=dark] .colab-df-convert {\n",
              "      background-color: #3B4455;\n",
              "      fill: #D2E3FC;\n",
              "    }\n",
              "\n",
              "    [theme=dark] .colab-df-convert:hover {\n",
              "      background-color: #434B5C;\n",
              "      box-shadow: 0px 1px 3px 1px rgba(0, 0, 0, 0.15);\n",
              "      filter: drop-shadow(0px 1px 2px rgba(0, 0, 0, 0.3));\n",
              "      fill: #FFFFFF;\n",
              "    }\n",
              "  </style>\n",
              "\n",
              "    <script>\n",
              "      const buttonEl =\n",
              "        document.querySelector('#df-656612a0-19a5-4291-9a87-7773e33cc1b2 button.colab-df-convert');\n",
              "      buttonEl.style.display =\n",
              "        google.colab.kernel.accessAllowed ? 'block' : 'none';\n",
              "\n",
              "      async function convertToInteractive(key) {\n",
              "        const element = document.querySelector('#df-656612a0-19a5-4291-9a87-7773e33cc1b2');\n",
              "        const dataTable =\n",
              "          await google.colab.kernel.invokeFunction('convertToInteractive',\n",
              "                                                    [key], {});\n",
              "        if (!dataTable) return;\n",
              "\n",
              "        const docLinkHtml = 'Like what you see? Visit the ' +\n",
              "          '<a target=\"_blank\" href=https://colab.research.google.com/notebooks/data_table.ipynb>data table notebook</a>'\n",
              "          + ' to learn more about interactive tables.';\n",
              "        element.innerHTML = '';\n",
              "        dataTable['output_type'] = 'display_data';\n",
              "        await google.colab.output.renderOutput(dataTable, element);\n",
              "        const docLink = document.createElement('div');\n",
              "        docLink.innerHTML = docLinkHtml;\n",
              "        element.appendChild(docLink);\n",
              "      }\n",
              "    </script>\n",
              "  </div>\n",
              "\n",
              "\n",
              "<div id=\"df-f6a311b8-7934-42b8-bfe2-d80fdffa43d7\">\n",
              "  <button class=\"colab-df-quickchart\" onclick=\"quickchart('df-f6a311b8-7934-42b8-bfe2-d80fdffa43d7')\"\n",
              "            title=\"Suggest charts\"\n",
              "            style=\"display:none;\">\n",
              "\n",
              "<svg xmlns=\"http://www.w3.org/2000/svg\" height=\"24px\"viewBox=\"0 0 24 24\"\n",
              "     width=\"24px\">\n",
              "    <g>\n",
              "        <path d=\"M19 3H5c-1.1 0-2 .9-2 2v14c0 1.1.9 2 2 2h14c1.1 0 2-.9 2-2V5c0-1.1-.9-2-2-2zM9 17H7v-7h2v7zm4 0h-2V7h2v10zm4 0h-2v-4h2v4z\"/>\n",
              "    </g>\n",
              "</svg>\n",
              "  </button>\n",
              "\n",
              "<style>\n",
              "  .colab-df-quickchart {\n",
              "      --bg-color: #E8F0FE;\n",
              "      --fill-color: #1967D2;\n",
              "      --hover-bg-color: #E2EBFA;\n",
              "      --hover-fill-color: #174EA6;\n",
              "      --disabled-fill-color: #AAA;\n",
              "      --disabled-bg-color: #DDD;\n",
              "  }\n",
              "\n",
              "  [theme=dark] .colab-df-quickchart {\n",
              "      --bg-color: #3B4455;\n",
              "      --fill-color: #D2E3FC;\n",
              "      --hover-bg-color: #434B5C;\n",
              "      --hover-fill-color: #FFFFFF;\n",
              "      --disabled-bg-color: #3B4455;\n",
              "      --disabled-fill-color: #666;\n",
              "  }\n",
              "\n",
              "  .colab-df-quickchart {\n",
              "    background-color: var(--bg-color);\n",
              "    border: none;\n",
              "    border-radius: 50%;\n",
              "    cursor: pointer;\n",
              "    display: none;\n",
              "    fill: var(--fill-color);\n",
              "    height: 32px;\n",
              "    padding: 0;\n",
              "    width: 32px;\n",
              "  }\n",
              "\n",
              "  .colab-df-quickchart:hover {\n",
              "    background-color: var(--hover-bg-color);\n",
              "    box-shadow: 0 1px 2px rgba(60, 64, 67, 0.3), 0 1px 3px 1px rgba(60, 64, 67, 0.15);\n",
              "    fill: var(--button-hover-fill-color);\n",
              "  }\n",
              "\n",
              "  .colab-df-quickchart-complete:disabled,\n",
              "  .colab-df-quickchart-complete:disabled:hover {\n",
              "    background-color: var(--disabled-bg-color);\n",
              "    fill: var(--disabled-fill-color);\n",
              "    box-shadow: none;\n",
              "  }\n",
              "\n",
              "  .colab-df-spinner {\n",
              "    border: 2px solid var(--fill-color);\n",
              "    border-color: transparent;\n",
              "    border-bottom-color: var(--fill-color);\n",
              "    animation:\n",
              "      spin 1s steps(1) infinite;\n",
              "  }\n",
              "\n",
              "  @keyframes spin {\n",
              "    0% {\n",
              "      border-color: transparent;\n",
              "      border-bottom-color: var(--fill-color);\n",
              "      border-left-color: var(--fill-color);\n",
              "    }\n",
              "    20% {\n",
              "      border-color: transparent;\n",
              "      border-left-color: var(--fill-color);\n",
              "      border-top-color: var(--fill-color);\n",
              "    }\n",
              "    30% {\n",
              "      border-color: transparent;\n",
              "      border-left-color: var(--fill-color);\n",
              "      border-top-color: var(--fill-color);\n",
              "      border-right-color: var(--fill-color);\n",
              "    }\n",
              "    40% {\n",
              "      border-color: transparent;\n",
              "      border-right-color: var(--fill-color);\n",
              "      border-top-color: var(--fill-color);\n",
              "    }\n",
              "    60% {\n",
              "      border-color: transparent;\n",
              "      border-right-color: var(--fill-color);\n",
              "    }\n",
              "    80% {\n",
              "      border-color: transparent;\n",
              "      border-right-color: var(--fill-color);\n",
              "      border-bottom-color: var(--fill-color);\n",
              "    }\n",
              "    90% {\n",
              "      border-color: transparent;\n",
              "      border-bottom-color: var(--fill-color);\n",
              "    }\n",
              "  }\n",
              "</style>\n",
              "\n",
              "  <script>\n",
              "    async function quickchart(key) {\n",
              "      const quickchartButtonEl =\n",
              "        document.querySelector('#' + key + ' button');\n",
              "      quickchartButtonEl.disabled = true;  // To prevent multiple clicks.\n",
              "      quickchartButtonEl.classList.add('colab-df-spinner');\n",
              "      try {\n",
              "        const charts = await google.colab.kernel.invokeFunction(\n",
              "            'suggestCharts', [key], {});\n",
              "      } catch (error) {\n",
              "        console.error('Error during call to suggestCharts:', error);\n",
              "      }\n",
              "      quickchartButtonEl.classList.remove('colab-df-spinner');\n",
              "      quickchartButtonEl.classList.add('colab-df-quickchart-complete');\n",
              "    }\n",
              "    (() => {\n",
              "      let quickchartButtonEl =\n",
              "        document.querySelector('#df-f6a311b8-7934-42b8-bfe2-d80fdffa43d7 button');\n",
              "      quickchartButtonEl.style.display =\n",
              "        google.colab.kernel.accessAllowed ? 'block' : 'none';\n",
              "    })();\n",
              "  </script>\n",
              "</div>\n",
              "\n",
              "    </div>\n",
              "  </div>\n"
            ],
            "text/plain": [
              "           state\n",
              "olin          10\n",
              "wellesley      2\n",
              "downtown       0"
            ]
          },
          "execution_count": 258,
          "metadata": {},
          "output_type": "execute_result"
        }
      ],
      "source": [
        "# Solution goes here\n",
        "third_state = State(olin=10, wellesley=2, downtown=0)\n",
        "show(third_state)"
      ]
    },
    {
      "cell_type": "markdown",
      "id": "christian-madrid",
      "metadata": {
        "id": "christian-madrid"
      },
      "source": [
        "### Exercise 3 (30 pts)\n",
        "\n",
        "Wrap the code in the chapter in a function named `run_simulation` that takes three parameters, named `p1`, `p2`, and `num_steps`.\n",
        "\n",
        "It should:\n",
        "\n",
        "1. Create a `TimeSeries` object to hold the results.\n",
        "\n",
        "2. Use a for loop to run `step` the number of times specified by `num_steps`, passing along the specified values of `p1` and `p2`.\n",
        "\n",
        "3. After each step, it should save the number of bikes at Olin in the `TimeSeries`.\n",
        "\n",
        "4. After the for loop, it should plot the results and\n",
        "\n",
        "5. Decorate the axes.\n",
        "\n",
        "To test your function:\n",
        "\n",
        "1. Create a `State` object with the initial state of the system.\n",
        "\n",
        "2. Call `run_simulation` with parameters `p1=0.3`, `p2=0.2`, and `num_steps=60`."
      ]
    },
    {
      "cell_type": "code",
      "execution_count": 259,
      "id": "former-frost",
      "metadata": {
        "id": "former-frost"
      },
      "outputs": [],
      "source": [
        "# Solution goes here\n",
        "def run_simulation(p1, p2, num_steps):\n",
        "    results = TimeSeries()\n",
        "\n",
        "    for i in range(num_steps):\n",
        "      step(p1, p2)\n",
        "      results[i+1] = bikeshare.olin\n",
        "\n",
        "    results.plot()\n",
        "    decorate(title='Olin bikeshare',\n",
        "            xlabel='Time step (min)',\n",
        "            ylabel='Number of bikes')\n",
        "\n"
      ]
    },
    {
      "cell_type": "code",
      "execution_count": 260,
      "id": "spare-honduras",
      "metadata": {
        "ExecuteTime": {
          "end_time": "2025-01-21T11:02:55.307090Z",
          "start_time": "2025-01-21T11:02:55.303276Z"
        },
        "colab": {
          "base_uri": "https://localhost:8080/",
          "height": 835
        },
        "id": "spare-honduras",
        "outputId": "1943006c-445a-4d5a-9448-d11a26aa25ed"
      },
      "outputs": [
        {
          "name": "stdout",
          "output_type": "stream",
          "text": [
            "Moving a bike to Wellesley\n",
            "Moving a bike to Wellesley\n",
            "Moving a bike to Olin\n",
            "Moving a bike to Wellesley\n",
            "Moving a bike to Wellesley\n",
            "Moving a bike to Olin\n",
            "Moving a bike to Wellesley\n",
            "Moving a bike to Wellesley\n",
            "Moving a bike to Wellesley\n",
            "Moving a bike to Wellesley\n",
            "Moving a bike to Wellesley\n",
            "Moving a bike to Wellesley\n",
            "Moving a bike to Olin\n",
            "Moving a bike to Olin\n",
            "Moving a bike to Olin\n",
            "Moving a bike to Wellesley\n",
            "Moving a bike to Wellesley\n",
            "Moving a bike to Wellesley\n",
            "Moving a bike to Olin\n",
            "Moving a bike to Wellesley\n",
            "Moving a bike to Wellesley\n",
            "Moving a bike to Wellesley\n",
            "Moving a bike to Wellesley\n",
            "Moving a bike to Olin\n",
            "Moving a bike to Wellesley\n",
            "Moving a bike to Wellesley\n",
            "Moving a bike to Olin\n",
            "Moving a bike to Olin\n",
            "Moving a bike to Wellesley\n"
          ]
        },
        {
          "data": {
            "image/png": "[encoded data removed]",
            "text/plain": [
              "<Figure size 450x300 with 1 Axes>"
            ]
          },
          "metadata": {},
          "output_type": "display_data"
        }
      ],
      "source": [
        "# Solution goes here\n",
        "run_simulation(0.3, 0.2, 60)"
      ]
    },
    {
      "cell_type": "markdown",
      "id": "464ee83f4e5066c0",
      "metadata": {
        "id": "464ee83f4e5066c0"
      },
      "source": [
        "## Exercises (Chapter 3)"
      ]
    },
    {
      "cell_type": "markdown",
      "id": "513f949dfcedc2d5",
      "metadata": {
        "id": "513f949dfcedc2d5"
      },
      "source": [
        "### Exercise 4 (30 pts)\n",
        "As another metric, we might be interested in the time until the first customer arrives and doesn't find a bike. To make that work, we have to add a \"clock\" to keep track of how many time steps have elapsed:\n",
        "\n",
        "1.\tCreate a new `State` object with an additional state variable, `clock`, initialized to 0.\n",
        "2. Write a modified version of `step` that adds one to the `clock` each time it is invoked\n",
        "\n",
        "Test your code by running the simulation and check the value of `clock` at the end."
      ]
    },
    {
      "cell_type": "code",
      "execution_count": 261,
      "id": "5e5750c6540018de",
      "metadata": {
        "ExecuteTime": {
          "end_time": "2025-01-21T11:02:55.313869Z",
          "start_time": "2025-01-21T11:02:55.310319Z"
        },
        "id": "5e5750c6540018de"
      },
      "outputs": [],
      "source": [
        "## Solution goes here\n",
        "new_state= State(olin=10, wellesley=2, clock=0)"
      ]
    },
    {
      "cell_type": "code",
      "execution_count": 262,
      "id": "Elk4MoKaeMg7",
      "metadata": {
        "id": "Elk4MoKaeMg7"
      },
      "outputs": [],
      "source": [
        "def step(p1, p2):\n",
        "    if flip(p1):\n",
        "        bike_to_wellesley()\n",
        "\n",
        "    if flip(p2):\n",
        "        bike_to_olin()\n",
        "\n",
        "    new_state.clock+=1\n",
        "    print(\"The Value of the clock\",  new_state.clock)"
      ]
    },
    {
      "cell_type": "code",
      "execution_count": 263,
      "id": "d282d7591ab448f3",
      "metadata": {
        "ExecuteTime": {
          "end_time": "2025-01-21T11:02:55.319952Z",
          "start_time": "2025-01-21T11:02:55.315830Z"
        },
        "colab": {
          "base_uri": "https://localhost:8080/",
          "height": 1000
        },
        "id": "d282d7591ab448f3",
        "outputId": "592aaf66-426e-42a0-f7de-d499d2049249"
      },
      "outputs": [
        {
          "name": "stdout",
          "output_type": "stream",
          "text": [
            "Moving a bike to Olin\n",
            "The Value of the clock 1\n",
            "The Value of the clock 2\n",
            "The Value of the clock 3\n",
            "Moving a bike to Wellesley\n",
            "The Value of the clock 4\n",
            "Moving a bike to Wellesley\n",
            "The Value of the clock 5\n",
            "Moving a bike to Olin\n",
            "The Value of the clock 6\n",
            "Moving a bike to Olin\n",
            "The Value of the clock 7\n",
            "Moving a bike to Wellesley\n",
            "The Value of the clock 8\n",
            "The Value of the clock 9\n",
            "The Value of the clock 10\n",
            "The Value of the clock 11\n",
            "The Value of the clock 12\n",
            "The Value of the clock 13\n",
            "The Value of the clock 14\n",
            "The Value of the clock 15\n",
            "The Value of the clock 16\n",
            "Moving a bike to Wellesley\n",
            "The Value of the clock 17\n",
            "Moving a bike to Wellesley\n",
            "The Value of the clock 18\n",
            "The Value of the clock 19\n",
            "The Value of the clock 20\n",
            "The Value of the clock 21\n",
            "Moving a bike to Wellesley\n",
            "The Value of the clock 22\n",
            "Moving a bike to Olin\n",
            "The Value of the clock 23\n",
            "Moving a bike to Wellesley\n",
            "The Value of the clock 24\n",
            "Moving a bike to Wellesley\n",
            "The Value of the clock 25\n",
            "The Value of the clock 26\n",
            "Moving a bike to Wellesley\n",
            "The Value of the clock 27\n",
            "Moving a bike to Olin\n",
            "The Value of the clock 28\n",
            "The Value of the clock 29\n",
            "The Value of the clock 30\n",
            "The Value of the clock 31\n",
            "The Value of the clock 32\n",
            "The Value of the clock 33\n",
            "Moving a bike to Wellesley\n",
            "The Value of the clock 34\n",
            "The Value of the clock 35\n",
            "The Value of the clock 36\n",
            "The Value of the clock 37\n",
            "Moving a bike to Wellesley\n",
            "The Value of the clock 38\n",
            "The Value of the clock 39\n",
            "Moving a bike to Wellesley\n",
            "The Value of the clock 40\n",
            "Moving a bike to Wellesley\n",
            "The Value of the clock 41\n",
            "Moving a bike to Olin\n",
            "The Value of the clock 42\n",
            "The Value of the clock 43\n",
            "Moving a bike to Wellesley\n",
            "The Value of the clock 44\n",
            "Moving a bike to Olin\n",
            "The Value of the clock 45\n",
            "Moving a bike to Olin\n",
            "The Value of the clock 46\n",
            "Moving a bike to Olin\n",
            "The Value of the clock 47\n",
            "The Value of the clock 48\n",
            "The Value of the clock 49\n",
            "Moving a bike to Wellesley\n",
            "The Value of the clock 50\n",
            "The Value of the clock 51\n",
            "The Value of the clock 52\n",
            "The Value of the clock 53\n",
            "The Value of the clock 54\n",
            "The Value of the clock 55\n",
            "Moving a bike to Olin\n",
            "The Value of the clock 56\n",
            "The Value of the clock 57\n",
            "The Value of the clock 58\n",
            "The Value of the clock 59\n",
            "Moving a bike to Wellesley\n",
            "The Value of the clock 60\n"
          ]
        },
        {
          "data": {
            "image/png": "[encoded data removed]",
            "text/plain": [
              "<Figure size 450x300 with 1 Axes>"
            ]
          },
          "metadata": {},
          "output_type": "display_data"
        }
      ],
      "source": [
        "run_simulation(0.3, 0.2, 60)\n"
      ]
    },
    {
      "cell_type": "markdown",
      "id": "dc69e2a8616d6cf7",
      "metadata": {
        "id": "dc69e2a8616d6cf7"
      },
      "source": [
        "### Exercise 5 (30 pts)\n",
        "Continuing from Exercise  4 ( the previous exercise), let's record the time when the first customer arrives and doesn't find a bike.\n",
        "1.\tCreate a new State object with an additional state variable, `t_first_empty`, initialized to `-1` as a special value to indicate that it has not been set.\n",
        "2.\tWrite a modified version of step that checks whether `olin_empty` and `wellesley_empty` are 0. If not, it should set t_first_empty to clock (but only if `t_first_empty` has not already been set).\n",
        "\n",
        "Test your code by running the simulation and printing the values of `olin_empty`, `wellesley_empty`, and `t_first_empty` at the end.\n"
      ]
    },
    {
      "cell_type": "code",
      "execution_count": 266,
      "id": "aa77e06c227714ca",
      "metadata": {
        "ExecuteTime": {
          "end_time": "2025-01-21T11:02:55.324910Z",
          "start_time": "2025-01-21T11:02:55.321566Z"
        },
        "id": "aa77e06c227714ca"
      },
      "outputs": [],
      "source": [
        "## Solution goes here\n",
        "new_state2= State(olin=10, wellesley=2, clock=0, t_first_empty=-1, olin_empty=0, wellesley_empty =0)\n"
      ]
    },
    {
      "cell_type": "code",
      "execution_count": 272,
      "id": "fa82b4209e81d6f5",
      "metadata": {
        "ExecuteTime": {
          "end_time": "2025-01-21T11:02:55.329688Z",
          "start_time": "2025-01-21T11:02:55.326635Z"
        },
        "id": "fa82b4209e81d6f5"
      },
      "outputs": [],
      "source": [
        "## Solution goes here\n",
        "def step(p1, p2):\n",
        "  new_state2.clock += 1\n",
        "\n",
        "  if new_state2.olin_empty == 0 and new_state2.wellesley_empty == 0:\n",
        "    new_state2.t_first_empty = new_state2.clock\n",
        "  if flip(p1):\n",
        "    bike_to_wellesley()\n",
        "    new_state2.olin_empty += 1\n",
        "  if flip(p2):\n",
        "    bike_to_olin()\n",
        "    new_state2.wellesley_empty += 1\n",
        "\n",
        "  print(\"Olin Empty:\",new_state2.olin_empty, \"Wellesley_empty:\",new_state2.wellesley_empty,\"T_first_empty:\" ,new_state2.t_first_empty)\n"
      ]
    },
    {
      "cell_type": "code",
      "execution_count": 273,
      "id": "AKyDzP2WjK33",
      "metadata": {
        "colab": {
          "base_uri": "https://localhost:8080/",
          "height": 1000
        },
        "id": "AKyDzP2WjK33",
        "outputId": "999e73ec-e257-4a64-8647-e64be07cde23"
      },
      "outputs": [
        {
          "name": "stdout",
          "output_type": "stream",
          "text": [
            "Olin Empty: -40 Wellesley_empty: -22 T_first_empty: 2\n",
            "Olin Empty: -40 Wellesley_empty: -22 T_first_empty: 2\n",
            "Olin Empty: -40 Wellesley_empty: -22 T_first_empty: 2\n",
            "Olin Empty: -40 Wellesley_empty: -22 T_first_empty: 2\n",
            "Moving a bike to Wellesley\n",
            "Olin Empty: -39 Wellesley_empty: -22 T_first_empty: 2\n",
            "Moving a bike to Wellesley\n",
            "Olin Empty: -38 Wellesley_empty: -22 T_first_empty: 2\n",
            "Olin Empty: -38 Wellesley_empty: -22 T_first_empty: 2\n",
            "Moving a bike to Olin\n",
            "Olin Empty: -38 Wellesley_empty: -21 T_first_empty: 2\n",
            "Olin Empty: -38 Wellesley_empty: -21 T_first_empty: 2\n",
            "Olin Empty: -38 Wellesley_empty: -21 T_first_empty: 2\n",
            "Moving a bike to Olin\n",
            "Olin Empty: -38 Wellesley_empty: -20 T_first_empty: 2\n",
            "Olin Empty: -38 Wellesley_empty: -20 T_first_empty: 2\n",
            "Olin Empty: -38 Wellesley_empty: -20 T_first_empty: 2\n",
            "Moving a bike to Olin\n",
            "Olin Empty: -38 Wellesley_empty: -19 T_first_empty: 2\n",
            "Olin Empty: -38 Wellesley_empty: -19 T_first_empty: 2\n",
            "Olin Empty: -38 Wellesley_empty: -19 T_first_empty: 2\n",
            "Moving a bike to Olin\n",
            "Olin Empty: -38 Wellesley_empty: -18 T_first_empty: 2\n",
            "Olin Empty: -38 Wellesley_empty: -18 T_first_empty: 2\n",
            "Moving a bike to Wellesley\n",
            "Olin Empty: -37 Wellesley_empty: -18 T_first_empty: 2\n",
            "Moving a bike to Wellesley\n",
            "Olin Empty: -36 Wellesley_empty: -18 T_first_empty: 2\n",
            "Olin Empty: -36 Wellesley_empty: -18 T_first_empty: 2\n",
            "Olin Empty: -36 Wellesley_empty: -18 T_first_empty: 2\n",
            "Olin Empty: -36 Wellesley_empty: -18 T_first_empty: 2\n",
            "Moving a bike to Wellesley\n",
            "Olin Empty: -35 Wellesley_empty: -18 T_first_empty: 2\n",
            "Olin Empty: -35 Wellesley_empty: -18 T_first_empty: 2\n",
            "Olin Empty: -35 Wellesley_empty: -18 T_first_empty: 2\n",
            "Olin Empty: -35 Wellesley_empty: -18 T_first_empty: 2\n",
            "Moving a bike to Wellesley\n",
            "Olin Empty: -34 Wellesley_empty: -18 T_first_empty: 2\n",
            "Olin Empty: -34 Wellesley_empty: -18 T_first_empty: 2\n",
            "Olin Empty: -34 Wellesley_empty: -18 T_first_empty: 2\n",
            "Moving a bike to Wellesley\n",
            "Olin Empty: -33 Wellesley_empty: -18 T_first_empty: 2\n",
            "Olin Empty: -33 Wellesley_empty: -18 T_first_empty: 2\n",
            "Olin Empty: -33 Wellesley_empty: -18 T_first_empty: 2\n",
            "Olin Empty: -33 Wellesley_empty: -18 T_first_empty: 2\n",
            "Olin Empty: -33 Wellesley_empty: -18 T_first_empty: 2\n",
            "Olin Empty: -33 Wellesley_empty: -18 T_first_empty: 2\n",
            "Moving a bike to Wellesley\n",
            "Olin Empty: -32 Wellesley_empty: -18 T_first_empty: 2\n",
            "Olin Empty: -32 Wellesley_empty: -18 T_first_empty: 2\n",
            "Moving a bike to Wellesley\n",
            "Olin Empty: -31 Wellesley_empty: -18 T_first_empty: 2\n",
            "Olin Empty: -31 Wellesley_empty: -18 T_first_empty: 2\n",
            "Olin Empty: -31 Wellesley_empty: -18 T_first_empty: 2\n",
            "Olin Empty: -31 Wellesley_empty: -18 T_first_empty: 2\n",
            "Olin Empty: -31 Wellesley_empty: -18 T_first_empty: 2\n",
            "Olin Empty: -31 Wellesley_empty: -18 T_first_empty: 2\n",
            "Olin Empty: -31 Wellesley_empty: -18 T_first_empty: 2\n",
            "Moving a bike to Olin\n",
            "Olin Empty: -31 Wellesley_empty: -17 T_first_empty: 2\n",
            "Moving a bike to Wellesley\n",
            "Moving a bike to Olin\n",
            "Olin Empty: -30 Wellesley_empty: -16 T_first_empty: 2\n",
            "Olin Empty: -30 Wellesley_empty: -16 T_first_empty: 2\n",
            "Olin Empty: -30 Wellesley_empty: -16 T_first_empty: 2\n",
            "Olin Empty: -30 Wellesley_empty: -16 T_first_empty: 2\n",
            "Olin Empty: -30 Wellesley_empty: -16 T_first_empty: 2\n",
            "Olin Empty: -30 Wellesley_empty: -16 T_first_empty: 2\n",
            "Olin Empty: -30 Wellesley_empty: -16 T_first_empty: 2\n",
            "Olin Empty: -30 Wellesley_empty: -16 T_first_empty: 2\n",
            "Olin Empty: -30 Wellesley_empty: -16 T_first_empty: 2\n",
            "Moving a bike to Wellesley\n",
            "Olin Empty: -29 Wellesley_empty: -16 T_first_empty: 2\n",
            "Olin Empty: -29 Wellesley_empty: -16 T_first_empty: 2\n",
            "Olin Empty: -29 Wellesley_empty: -16 T_first_empty: 2\n",
            "Moving a bike to Wellesley\n",
            "Olin Empty: -28 Wellesley_empty: -16 T_first_empty: 2\n",
            "Moving a bike to Wellesley\n",
            "Moving a bike to Olin\n",
            "Olin Empty: -27 Wellesley_empty: -15 T_first_empty: 2\n"
          ]
        },
        {
          "data": {
            "image/png": "[encoded data removed]",
            "text/plain": [
              "<Figure size 450x300 with 1 Axes>"
            ]
          },
          "metadata": {},
          "output_type": "display_data"
        }
      ],
      "source": [
        "run_simulation(0.3, 0.2, 60)"
      ]
    },
    {
      "cell_type": "code",
      "execution_count": null,
      "id": "JabpB7MejO26",
      "metadata": {
        "id": "JabpB7MejO26"
      },
      "outputs": [],
      "source": []
    }
  ],
  "metadata": {
    "celltoolbar": "Tags",
    "colab": {
      "provenance": []
    },
    "kernelspec": {
      "display_name": "Python 3 (ipykernel)",
      "language": "python",
      "name": "python3"
    },
    "language_info": {
      "codemirror_mode": {
        "name": "ipython",
        "version": 3
      },
      "file_extension": ".py",
      "mimetype": "text/x-python",
      "name": "python",
      "nbconvert_exporter": "python",
      "pygments_lexer": "ipython3",
      "version": "3.10.13"
    }
  },
  "nbformat": 4,
  "nbformat_minor": 5
}
